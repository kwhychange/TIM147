{
 "cells": [
  {
   "cell_type": "code",
   "execution_count": 1,
   "id": "f9c4a995-8333-438e-aebc-0a2b4817ac9c",
   "metadata": {
    "tags": []
   },
   "outputs": [],
   "source": [
    "import os\n",
    "import numpy as np\n",
    "import pandas as pd\n",
    "import math\n",
    "import matplotlib.pylab as plt\n",
    "from ast import literal_eval\n",
    "from scipy import stats\n",
    "from sklearn.preprocessing import MinMaxScaler\n",
    "from sklearn.preprocessing import StandardScaler\n",
    "\n",
    "%matplotlib inline"
   ]
  },
  {
   "cell_type": "code",
   "execution_count": 2,
   "id": "9037faa0-5b3d-4ab9-b68d-513ad1c13162",
   "metadata": {
    "tags": []
   },
   "outputs": [
    {
     "data": {
      "text/html": [
       "<div>\n",
       "<style scoped>\n",
       "    .dataframe tbody tr th:only-of-type {\n",
       "        vertical-align: middle;\n",
       "    }\n",
       "\n",
       "    .dataframe tbody tr th {\n",
       "        vertical-align: top;\n",
       "    }\n",
       "\n",
       "    .dataframe thead th {\n",
       "        text-align: right;\n",
       "    }\n",
       "</style>\n",
       "<table border=\"1\" class=\"dataframe\">\n",
       "  <thead>\n",
       "    <tr style=\"text-align: right;\">\n",
       "      <th></th>\n",
       "      <th>Unnamed: 0</th>\n",
       "      <th>business_id</th>\n",
       "      <th>name</th>\n",
       "      <th>address</th>\n",
       "      <th>city</th>\n",
       "      <th>state</th>\n",
       "      <th>postal_code</th>\n",
       "      <th>latitude</th>\n",
       "      <th>longitude</th>\n",
       "      <th>stars</th>\n",
       "      <th>...</th>\n",
       "      <th>attributes</th>\n",
       "      <th>categories</th>\n",
       "      <th>hours</th>\n",
       "      <th>is_restaurant</th>\n",
       "      <th>checkinDate</th>\n",
       "      <th>starList</th>\n",
       "      <th>useful</th>\n",
       "      <th>funny</th>\n",
       "      <th>cool</th>\n",
       "      <th>reviewDate</th>\n",
       "    </tr>\n",
       "  </thead>\n",
       "  <tbody>\n",
       "    <tr>\n",
       "      <th>0</th>\n",
       "      <td>0</td>\n",
       "      <td>MTSW4McQd7CbVtyjqoe9mw</td>\n",
       "      <td>St Honore Pastries</td>\n",
       "      <td>935 Race St</td>\n",
       "      <td>Philadelphia</td>\n",
       "      <td>PA</td>\n",
       "      <td>19107</td>\n",
       "      <td>39.955505</td>\n",
       "      <td>-75.155564</td>\n",
       "      <td>4.0</td>\n",
       "      <td>...</td>\n",
       "      <td>{'RestaurantsDelivery': 'False', 'OutdoorSeati...</td>\n",
       "      <td>['Restaurants', 'Food', 'Bubble Tea', 'Coffee ...</td>\n",
       "      <td>{'Monday': '7:0-20:0', 'Tuesday': '7:0-20:0', ...</td>\n",
       "      <td>True</td>\n",
       "      <td>['2010-08-18 17:05:36', '2010-11-25 17:45:31',...</td>\n",
       "      <td>[4, 4, 3, 4, 3, 4, 5, 4, 4, 5, 5, 4, 4, 3, 3, ...</td>\n",
       "      <td>[6, 1, 1, 2, 2, 5, 1, 5, 0, 0, 0, 0, 0, 1, 0, ...</td>\n",
       "      <td>[0, 0, 0, 0, 0, 0, 1, 1, 0, 0, 0, 0, 0, 0, 0, ...</td>\n",
       "      <td>[2, 1, 1, 1, 1, 3, 1, 4, 0, 0, 0, 0, 0, 0, 0, ...</td>\n",
       "      <td>[2008-03-09 00:36:56, 2008-06-16 13:41:58, 200...</td>\n",
       "    </tr>\n",
       "    <tr>\n",
       "      <th>1</th>\n",
       "      <td>1</td>\n",
       "      <td>CF33F8-E6oudUQ46HnavjQ</td>\n",
       "      <td>Sonic Drive-In</td>\n",
       "      <td>615 S Main St</td>\n",
       "      <td>Ashland City</td>\n",
       "      <td>TN</td>\n",
       "      <td>37015</td>\n",
       "      <td>36.269593</td>\n",
       "      <td>-87.058943</td>\n",
       "      <td>2.0</td>\n",
       "      <td>...</td>\n",
       "      <td>{'BusinessParking': 'None', 'BusinessAcceptsCr...</td>\n",
       "      <td>['Burgers', 'Fast Food', 'Sandwiches', 'Food',...</td>\n",
       "      <td>{'Monday': '0:0-0:0', 'Tuesday': '6:0-22:0', '...</td>\n",
       "      <td>True</td>\n",
       "      <td>['2012-12-16 05:27:33', '2013-02-15 04:00:46',...</td>\n",
       "      <td>[4, 4, 1, 1, 2, 1]</td>\n",
       "      <td>[0, 0, 0, 0, 0, 0]</td>\n",
       "      <td>[0, 0, 0, 0, 0, 0]</td>\n",
       "      <td>[0, 0, 0, 0, 0, 0]</td>\n",
       "      <td>[2012-12-18 08:45:44, 2013-07-08 00:59:08, 201...</td>\n",
       "    </tr>\n",
       "    <tr>\n",
       "      <th>3</th>\n",
       "      <td>3</td>\n",
       "      <td>bBDDEgkFA1Otx9Lfe7BZUQ</td>\n",
       "      <td>Sonic Drive-In</td>\n",
       "      <td>2312 Dickerson Pike</td>\n",
       "      <td>Nashville</td>\n",
       "      <td>TN</td>\n",
       "      <td>37207</td>\n",
       "      <td>36.208102</td>\n",
       "      <td>-86.768170</td>\n",
       "      <td>1.5</td>\n",
       "      <td>...</td>\n",
       "      <td>{'RestaurantsAttire': \"'casual'\", 'Restaurants...</td>\n",
       "      <td>['Ice Cream &amp; Frozen Yogurt', 'Fast Food', 'Bu...</td>\n",
       "      <td>{'Monday': '0:0-0:0', 'Tuesday': '6:0-21:0', '...</td>\n",
       "      <td>True</td>\n",
       "      <td>['2011-01-17 15:31:21', '2011-02-23 21:28:08',...</td>\n",
       "      <td>[3, 2, 1, 1, 1, 1, 1, 1, 5, 1]</td>\n",
       "      <td>[1, 1, 0, 0, 0, 0, 0, 0, 0, 0]</td>\n",
       "      <td>[1, 1, 0, 0, 0, 0, 0, 0, 0, 0]</td>\n",
       "      <td>[0, 0, 0, 0, 0, 0, 0, 0, 0, 0]</td>\n",
       "      <td>[2011-07-01 23:01:11, 2016-06-13 04:55:46, 201...</td>\n",
       "    </tr>\n",
       "    <tr>\n",
       "      <th>5</th>\n",
       "      <td>5</td>\n",
       "      <td>il_Ro8jwPlHresjw9EGmBg</td>\n",
       "      <td>Denny's</td>\n",
       "      <td>8901 US 31 S</td>\n",
       "      <td>Indianapolis</td>\n",
       "      <td>IN</td>\n",
       "      <td>46227</td>\n",
       "      <td>39.637133</td>\n",
       "      <td>-86.127217</td>\n",
       "      <td>2.5</td>\n",
       "      <td>...</td>\n",
       "      <td>{'RestaurantsReservations': 'False', 'Restaura...</td>\n",
       "      <td>['American (Traditional)', 'Restaurants', 'Din...</td>\n",
       "      <td>{'Monday': '6:0-22:0', 'Tuesday': '6:0-22:0', ...</td>\n",
       "      <td>True</td>\n",
       "      <td>['2010-07-24 13:09:14', '2010-09-05 16:25:35',...</td>\n",
       "      <td>[4, 4, 5, 2, 4, 1, 1, 4, 5, 1, 4, 1, 1, 3, 1, ...</td>\n",
       "      <td>[0, 0, 0, 1, 0, 0, 0, 0, 0, 0, 2, 0, 0, 0, 0, ...</td>\n",
       "      <td>[0, 0, 0, 0, 0, 0, 0, 0, 0, 0, 0, 0, 0, 0, 0, ...</td>\n",
       "      <td>[0, 0, 0, 0, 0, 0, 0, 0, 0, 0, 2, 0, 0, 0, 0, ...</td>\n",
       "      <td>[2014-03-16 13:59:31, 2014-06-11 13:37:34, 201...</td>\n",
       "    </tr>\n",
       "    <tr>\n",
       "      <th>6</th>\n",
       "      <td>6</td>\n",
       "      <td>0bPLkL0QhhPO5kt1_EXmNQ</td>\n",
       "      <td>Zio's Italian Market</td>\n",
       "      <td>2575 E Bay Dr</td>\n",
       "      <td>Largo</td>\n",
       "      <td>FL</td>\n",
       "      <td>33771</td>\n",
       "      <td>27.916116</td>\n",
       "      <td>-82.760461</td>\n",
       "      <td>4.5</td>\n",
       "      <td>...</td>\n",
       "      <td>{'OutdoorSeating': 'False', 'RestaurantsGoodFo...</td>\n",
       "      <td>['Food', 'Delis', 'Italian', 'Bakeries', 'Rest...</td>\n",
       "      <td>{'Monday': '10:0-18:0', 'Tuesday': '10:0-20:0'...</td>\n",
       "      <td>True</td>\n",
       "      <td>['2010-08-26 17:52:51', '2011-02-13 00:43:54',...</td>\n",
       "      <td>[4, 5, 5, 5, 4, 5, 5, 5, 1, 4, 5, 5, 5, 4, 5, ...</td>\n",
       "      <td>[3, 2, 1, 3, 2, 2, 0, 2, 15, 0, 0, 0, 0, 1, 2,...</td>\n",
       "      <td>[0, 0, 1, 0, 1, 0, 0, 0, 9, 0, 0, 1, 0, 0, 0, ...</td>\n",
       "      <td>[0, 0, 0, 1, 1, 0, 0, 0, 1, 0, 0, 0, 0, 0, 0, ...</td>\n",
       "      <td>[2009-12-03 00:38:28, 2011-01-24 17:32:36, 201...</td>\n",
       "    </tr>\n",
       "  </tbody>\n",
       "</table>\n",
       "<p>5 rows × 22 columns</p>\n",
       "</div>"
      ],
      "text/plain": [
       "   Unnamed: 0             business_id                  name  \\\n",
       "0           0  MTSW4McQd7CbVtyjqoe9mw    St Honore Pastries   \n",
       "1           1  CF33F8-E6oudUQ46HnavjQ        Sonic Drive-In   \n",
       "3           3  bBDDEgkFA1Otx9Lfe7BZUQ        Sonic Drive-In   \n",
       "5           5  il_Ro8jwPlHresjw9EGmBg               Denny's   \n",
       "6           6  0bPLkL0QhhPO5kt1_EXmNQ  Zio's Italian Market   \n",
       "\n",
       "               address          city state postal_code   latitude  longitude  \\\n",
       "0          935 Race St  Philadelphia    PA       19107  39.955505 -75.155564   \n",
       "1        615 S Main St  Ashland City    TN       37015  36.269593 -87.058943   \n",
       "3  2312 Dickerson Pike     Nashville    TN       37207  36.208102 -86.768170   \n",
       "5         8901 US 31 S  Indianapolis    IN       46227  39.637133 -86.127217   \n",
       "6        2575 E Bay Dr         Largo    FL       33771  27.916116 -82.760461   \n",
       "\n",
       "   stars  ...                                         attributes  \\\n",
       "0    4.0  ...  {'RestaurantsDelivery': 'False', 'OutdoorSeati...   \n",
       "1    2.0  ...  {'BusinessParking': 'None', 'BusinessAcceptsCr...   \n",
       "3    1.5  ...  {'RestaurantsAttire': \"'casual'\", 'Restaurants...   \n",
       "5    2.5  ...  {'RestaurantsReservations': 'False', 'Restaura...   \n",
       "6    4.5  ...  {'OutdoorSeating': 'False', 'RestaurantsGoodFo...   \n",
       "\n",
       "                                          categories  \\\n",
       "0  ['Restaurants', 'Food', 'Bubble Tea', 'Coffee ...   \n",
       "1  ['Burgers', 'Fast Food', 'Sandwiches', 'Food',...   \n",
       "3  ['Ice Cream & Frozen Yogurt', 'Fast Food', 'Bu...   \n",
       "5  ['American (Traditional)', 'Restaurants', 'Din...   \n",
       "6  ['Food', 'Delis', 'Italian', 'Bakeries', 'Rest...   \n",
       "\n",
       "                                               hours is_restaurant  \\\n",
       "0  {'Monday': '7:0-20:0', 'Tuesday': '7:0-20:0', ...          True   \n",
       "1  {'Monday': '0:0-0:0', 'Tuesday': '6:0-22:0', '...          True   \n",
       "3  {'Monday': '0:0-0:0', 'Tuesday': '6:0-21:0', '...          True   \n",
       "5  {'Monday': '6:0-22:0', 'Tuesday': '6:0-22:0', ...          True   \n",
       "6  {'Monday': '10:0-18:0', 'Tuesday': '10:0-20:0'...          True   \n",
       "\n",
       "                                         checkinDate  \\\n",
       "0  ['2010-08-18 17:05:36', '2010-11-25 17:45:31',...   \n",
       "1  ['2012-12-16 05:27:33', '2013-02-15 04:00:46',...   \n",
       "3  ['2011-01-17 15:31:21', '2011-02-23 21:28:08',...   \n",
       "5  ['2010-07-24 13:09:14', '2010-09-05 16:25:35',...   \n",
       "6  ['2010-08-26 17:52:51', '2011-02-13 00:43:54',...   \n",
       "\n",
       "                                            starList  \\\n",
       "0  [4, 4, 3, 4, 3, 4, 5, 4, 4, 5, 5, 4, 4, 3, 3, ...   \n",
       "1                                 [4, 4, 1, 1, 2, 1]   \n",
       "3                     [3, 2, 1, 1, 1, 1, 1, 1, 5, 1]   \n",
       "5  [4, 4, 5, 2, 4, 1, 1, 4, 5, 1, 4, 1, 1, 3, 1, ...   \n",
       "6  [4, 5, 5, 5, 4, 5, 5, 5, 1, 4, 5, 5, 5, 4, 5, ...   \n",
       "\n",
       "                                              useful  \\\n",
       "0  [6, 1, 1, 2, 2, 5, 1, 5, 0, 0, 0, 0, 0, 1, 0, ...   \n",
       "1                                 [0, 0, 0, 0, 0, 0]   \n",
       "3                     [1, 1, 0, 0, 0, 0, 0, 0, 0, 0]   \n",
       "5  [0, 0, 0, 1, 0, 0, 0, 0, 0, 0, 2, 0, 0, 0, 0, ...   \n",
       "6  [3, 2, 1, 3, 2, 2, 0, 2, 15, 0, 0, 0, 0, 1, 2,...   \n",
       "\n",
       "                                               funny  \\\n",
       "0  [0, 0, 0, 0, 0, 0, 1, 1, 0, 0, 0, 0, 0, 0, 0, ...   \n",
       "1                                 [0, 0, 0, 0, 0, 0]   \n",
       "3                     [1, 1, 0, 0, 0, 0, 0, 0, 0, 0]   \n",
       "5  [0, 0, 0, 0, 0, 0, 0, 0, 0, 0, 0, 0, 0, 0, 0, ...   \n",
       "6  [0, 0, 1, 0, 1, 0, 0, 0, 9, 0, 0, 1, 0, 0, 0, ...   \n",
       "\n",
       "                                                cool  \\\n",
       "0  [2, 1, 1, 1, 1, 3, 1, 4, 0, 0, 0, 0, 0, 0, 0, ...   \n",
       "1                                 [0, 0, 0, 0, 0, 0]   \n",
       "3                     [0, 0, 0, 0, 0, 0, 0, 0, 0, 0]   \n",
       "5  [0, 0, 0, 0, 0, 0, 0, 0, 0, 0, 2, 0, 0, 0, 0, ...   \n",
       "6  [0, 0, 0, 1, 1, 0, 0, 0, 1, 0, 0, 0, 0, 0, 0, ...   \n",
       "\n",
       "                                          reviewDate  \n",
       "0  [2008-03-09 00:36:56, 2008-06-16 13:41:58, 200...  \n",
       "1  [2012-12-18 08:45:44, 2013-07-08 00:59:08, 201...  \n",
       "3  [2011-07-01 23:01:11, 2016-06-13 04:55:46, 201...  \n",
       "5  [2014-03-16 13:59:31, 2014-06-11 13:37:34, 201...  \n",
       "6  [2009-12-03 00:38:28, 2011-01-24 17:32:36, 201...  \n",
       "\n",
       "[5 rows x 22 columns]"
      ]
     },
     "execution_count": 2,
     "metadata": {},
     "output_type": "execute_result"
    }
   ],
   "source": [
    "path = \"C:/School/tim147/TIM147/DataSnippets/snippetRestaurants.csv\"\n",
    "df = pd.read_csv(path).dropna()\n",
    "df.reviewDate = df.reviewDate.apply(literal_eval)\n",
    "df.starList = df.starList.apply(literal_eval)\n",
    "df.head()"
   ]
  },
  {
   "cell_type": "code",
   "execution_count": 3,
   "id": "30dd321a-742c-4392-9fa3-fd49c5c41ebc",
   "metadata": {
    "tags": []
   },
   "outputs": [
    {
     "data": {
      "text/plain": [
       "Unnamed: 0         int64\n",
       "business_id       object\n",
       "name              object\n",
       "address           object\n",
       "city              object\n",
       "state             object\n",
       "postal_code       object\n",
       "latitude         float64\n",
       "longitude        float64\n",
       "stars            float64\n",
       "review_count       int64\n",
       "is_open            int64\n",
       "attributes        object\n",
       "categories        object\n",
       "hours             object\n",
       "is_restaurant       bool\n",
       "checkinDate       object\n",
       "starList          object\n",
       "useful            object\n",
       "funny             object\n",
       "cool              object\n",
       "reviewDate        object\n",
       "dtype: object"
      ]
     },
     "execution_count": 3,
     "metadata": {},
     "output_type": "execute_result"
    }
   ],
   "source": [
    "df.dtypes"
   ]
  },
  {
   "cell_type": "code",
   "execution_count": 4,
   "id": "931612b2-04f4-495f-b48d-bba3939572d1",
   "metadata": {},
   "outputs": [],
   "source": [
    "def replace_inner_list_content(arr):\n",
    "    return [(round(pd.to_datetime(inner_list, format='%Y-%m-%d %H:%M:%S').timestamp())) for inner_list in arr]\n",
    "\n",
    "df['reviewDate'] = df['reviewDate'].apply(replace_inner_list_content)"
   ]
  },
  {
   "cell_type": "code",
   "execution_count": 5,
   "id": "ccdc3101-5e6c-4f64-b21f-6f0789d1c9c1",
   "metadata": {
    "tags": []
   },
   "outputs": [
    {
     "data": {
      "text/plain": [
       "0     [0.0, 0.01996597652790344, 0.06510310374534845...\n",
       "1     [0.0, 0.06722668935683895, 0.6692294090417015,...\n",
       "3     [0.0, 0.5056837591586207, 0.5479010067430279, ...\n",
       "5     [0.0, 0.03353306706323789, 0.09102075596469472...\n",
       "6     [0.0, 0.12172458962518728, 0.15303284056564515...\n",
       "                            ...                        \n",
       "94    [0.0, 0.027563129566829048, 0.1224098242765858...\n",
       "96    [0.0, 0.07533507805157758, 0.12913978201688447...\n",
       "97    [0.0, 0.015161215021772811, 0.0219412769873774...\n",
       "98    [0.0, 0.0009250791909285461, 0.044257628302855...\n",
       "99    [0.0, 0.015249421890594306, 0.0181925539171601...\n",
       "Name: reviewDate, Length: 83, dtype: object"
      ]
     },
     "execution_count": 5,
     "metadata": {},
     "output_type": "execute_result"
    }
   ],
   "source": [
    "scaler = MinMaxScaler()\n",
    "\n",
    "# Apply MinMaxScaler to the DataFrame column\n",
    "df['reviewDate'] = df['reviewDate'].apply(lambda x: scaler.fit_transform(pd.DataFrame(x)).flatten())\n",
    "df['reviewDate']"
   ]
  },
  {
   "cell_type": "code",
   "execution_count": 6,
   "id": "4f570e54-f7b1-48a6-89c1-29a4423ee110",
   "metadata": {},
   "outputs": [
    {
     "name": "stdout",
     "output_type": "stream",
     "text": [
      "<class 'numpy.float64'>\n",
      "<class 'int'>\n",
      "[0.         0.06722669 0.66922941 0.91583269 0.91622375 1.        ]\n",
      "1\n"
     ]
    }
   ],
   "source": [
    "print(type(df['reviewDate'].iloc[1][5]))\n",
    "print(type(df['starList'].iloc[1][5] ))\n",
    "\n",
    "print(df['reviewDate'].iloc[1]) #1615015080\n",
    "print(df['starList'].iloc[1][5]) #1"
   ]
  },
  {
   "cell_type": "code",
   "execution_count": 7,
   "id": "8610bb06-d182-4e82-80a6-b47ca1b65e61",
   "metadata": {
    "tags": []
   },
   "outputs": [],
   "source": [
    "X = df['reviewDate']"
   ]
  },
  {
   "cell_type": "code",
   "execution_count": 8,
   "id": "b34ded95-0a4a-43ed-8fc4-ae545097d7da",
   "metadata": {
    "tags": []
   },
   "outputs": [
    {
     "data": {
      "text/plain": [
       "0    [0.0, 0.01996597652790344, 0.06510310374534845...\n",
       "1    [0.0, 0.06722668935683895, 0.6692294090417015,...\n",
       "3    [0.0, 0.5056837591586207, 0.5479010067430279, ...\n",
       "5    [0.0, 0.03353306706323789, 0.09102075596469472...\n",
       "6    [0.0, 0.12172458962518728, 0.15303284056564515...\n",
       "Name: reviewDate, dtype: object"
      ]
     },
     "execution_count": 8,
     "metadata": {},
     "output_type": "execute_result"
    }
   ],
   "source": [
    "X.head()"
   ]
  },
  {
   "cell_type": "code",
   "execution_count": 9,
   "id": "145fafc3-723d-42b8-91a9-2678017485ba",
   "metadata": {},
   "outputs": [],
   "source": [
    "Y = df['starList']"
   ]
  },
  {
   "cell_type": "code",
   "execution_count": 10,
   "id": "c22d1da3-1464-48b7-8262-581f4a492bc5",
   "metadata": {
    "tags": []
   },
   "outputs": [
    {
     "data": {
      "text/plain": [
       "0    [4, 4, 3, 4, 3, 4, 5, 4, 4, 5, 5, 4, 4, 3, 3, ...\n",
       "1                                   [4, 4, 1, 1, 2, 1]\n",
       "3                       [3, 2, 1, 1, 1, 1, 1, 1, 5, 1]\n",
       "5    [4, 4, 5, 2, 4, 1, 1, 4, 5, 1, 4, 1, 1, 3, 1, ...\n",
       "6    [4, 5, 5, 5, 4, 5, 5, 5, 1, 4, 5, 5, 5, 4, 5, ...\n",
       "Name: starList, dtype: object"
      ]
     },
     "execution_count": 10,
     "metadata": {},
     "output_type": "execute_result"
    }
   ],
   "source": [
    "Y.head()"
   ]
  },
  {
   "cell_type": "code",
   "execution_count": 11,
   "id": "d388e5f2-34ab-4f50-8404-e5bc6571c46b",
   "metadata": {},
   "outputs": [
    {
     "name": "stdout",
     "output_type": "stream",
     "text": [
      "<class 'numpy.float64'>\n",
      "<class 'int'>\n"
     ]
    }
   ],
   "source": [
    "print(type(df['reviewDate'].iloc[1][5]))\n",
    "print(type(df['starList'].iloc[1][5] ))"
   ]
  },
  {
   "cell_type": "code",
   "execution_count": 12,
   "id": "cc7d5b59-2a69-4b8e-bd43-295b55e6c2d7",
   "metadata": {
    "tags": []
   },
   "outputs": [],
   "source": [
    "def calculate_lin(list1, list2):\n",
    "    slope, intercept, r, p, std_err = stats.linregress(list1, list2)\n",
    "    return slope, intercept\n",
    "\n",
    "starSlope = list()\n",
    "starInt = list()\n",
    "for i in range(len(X)):\n",
    "    slope, intercept = calculate_lin(X.iloc[i], Y.iloc[i])\n",
    "    starSlope.append(slope)\n",
    "    starInt.append(intercept)"
   ]
  },
  {
   "cell_type": "code",
   "execution_count": 13,
   "id": "5eda978a-d550-40a2-b192-52ce22d0e169",
   "metadata": {
    "tags": []
   },
   "outputs": [
    {
     "name": "stdout",
     "output_type": "stream",
     "text": [
      "[0.8313305088446795, -3.0205241924263393, -0.4778703019292221, -1.4121494598135433, -0.15450180076037479, 0.08215762183140121, -0.3693307536936716, 1.0294984882599831, -2.4725725504332132, 0.043414685073407795]\n"
     ]
    }
   ],
   "source": [
    "print(starSlope[:10])"
   ]
  },
  {
   "cell_type": "code",
   "execution_count": 14,
   "id": "f9219a02-0ccd-42cb-a2d8-e20eab45c0b2",
   "metadata": {
    "tags": []
   },
   "outputs": [
    {
     "name": "stdout",
     "output_type": "stream",
     "text": [
      "[0.19456981688807365, -0.9214663564588226, -0.10945217150039123, -0.2725354200057008, -0.02900652293915536, 0.023338928787107197, -0.09725083614861754, 0.19479680972124264, -0.4874841125187435, 0.005954077879972034]\n"
     ]
    }
   ],
   "source": [
    "# Calculate the correlation between rows (lists)\n",
    "def calculate_correlation(list1, list2):\n",
    "    # Calculate correlation coefficient using numpy's corrcoef function\n",
    "    correlation_matrix = np.corrcoef(list1, list2)\n",
    "    # Return the correlation coefficient at position [0, 1]\n",
    "    return correlation_matrix[0, 1]\n",
    "\n",
    "starCorr = list()\n",
    "for index, row in df.iterrows():\n",
    "    correlation = calculate_correlation(row['reviewDate'], row['starList'])\n",
    "    starCorr.append(correlation)\n",
    "\n",
    "print(starCorr[:10])"
   ]
  },
  {
   "cell_type": "code",
   "execution_count": 15,
   "id": "d1660fed-2804-4237-acf9-4cc0347fc32d",
   "metadata": {
    "tags": []
   },
   "outputs": [
    {
     "data": {
      "text/plain": [
       "0     1\n",
       "1     1\n",
       "3     1\n",
       "5     1\n",
       "6     0\n",
       "7     1\n",
       "8     1\n",
       "9     0\n",
       "10    1\n",
       "11    1\n",
       "Name: is_open, dtype: int64"
      ]
     },
     "execution_count": 15,
     "metadata": {},
     "output_type": "execute_result"
    }
   ],
   "source": [
    "df['is_open'].head(10)"
   ]
  },
  {
   "cell_type": "code",
   "execution_count": null,
   "id": "b02834e9-9be8-423a-9025-c7476f6c1b07",
   "metadata": {},
   "outputs": [],
   "source": []
  }
 ],
 "metadata": {
  "kernelspec": {
   "display_name": "Python 3 (ipykernel)",
   "language": "python",
   "name": "python3"
  },
  "language_info": {
   "codemirror_mode": {
    "name": "ipython",
    "version": 3
   },
   "file_extension": ".py",
   "mimetype": "text/x-python",
   "name": "python",
   "nbconvert_exporter": "python",
   "pygments_lexer": "ipython3",
   "version": "3.11.5"
  }
 },
 "nbformat": 4,
 "nbformat_minor": 5
}
