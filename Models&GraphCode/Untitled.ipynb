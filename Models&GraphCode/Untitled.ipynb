{
 "cells": [
  {
   "cell_type": "code",
   "execution_count": 1,
   "id": "11caf537-04ff-4fb4-8911-ef9ef0d6401e",
   "metadata": {
    "tags": []
   },
   "outputs": [],
   "source": [
    "import os\n",
    "\n",
    "import pandas as pd\n",
    "pd.set_option('display.max_columns', None)\n",
    "\n",
    "import numpy as np\n",
    "\n",
    "import matplotlib.pyplot as plt\n",
    "import seaborn as sns"
   ]
  },
  {
   "cell_type": "code",
   "execution_count": 2,
   "id": "fc2c9333-5562-47ac-a688-05ee5c0bfde3",
   "metadata": {
    "tags": []
   },
   "outputs": [
    {
     "data": {
      "text/html": [
       "<div>\n",
       "<style scoped>\n",
       "    .dataframe tbody tr th:only-of-type {\n",
       "        vertical-align: middle;\n",
       "    }\n",
       "\n",
       "    .dataframe tbody tr th {\n",
       "        vertical-align: top;\n",
       "    }\n",
       "\n",
       "    .dataframe thead th {\n",
       "        text-align: right;\n",
       "    }\n",
       "</style>\n",
       "<table border=\"1\" class=\"dataframe\">\n",
       "  <thead>\n",
       "    <tr style=\"text-align: right;\">\n",
       "      <th></th>\n",
       "      <th>Unnamed: 0.2</th>\n",
       "      <th>Unnamed: 0.1</th>\n",
       "      <th>Unnamed: 0</th>\n",
       "      <th>business_id</th>\n",
       "      <th>name</th>\n",
       "      <th>address</th>\n",
       "      <th>city</th>\n",
       "      <th>state</th>\n",
       "      <th>postal_code</th>\n",
       "      <th>latitude</th>\n",
       "      <th>longitude</th>\n",
       "      <th>stars</th>\n",
       "      <th>review_count</th>\n",
       "      <th>is_open</th>\n",
       "      <th>attributes</th>\n",
       "      <th>categories</th>\n",
       "      <th>hours</th>\n",
       "      <th>is_restaurant</th>\n",
       "      <th>checkinDate</th>\n",
       "      <th>starList</th>\n",
       "      <th>useful</th>\n",
       "      <th>funny</th>\n",
       "      <th>cool</th>\n",
       "      <th>StarSlope</th>\n",
       "      <th>population</th>\n",
       "      <th>pop_density</th>\n",
       "      <th>median_income</th>\n",
       "      <th>locations</th>\n",
       "      <th>chain</th>\n",
       "    </tr>\n",
       "  </thead>\n",
       "  <tbody>\n",
       "    <tr>\n",
       "      <th>0</th>\n",
       "      <td>0</td>\n",
       "      <td>0</td>\n",
       "      <td>0</td>\n",
       "      <td>MTSW4McQd7CbVtyjqoe9mw</td>\n",
       "      <td>sthonorepastries</td>\n",
       "      <td>935 Race St</td>\n",
       "      <td>Philadelphia</td>\n",
       "      <td>PA</td>\n",
       "      <td>19107.0</td>\n",
       "      <td>39.955505</td>\n",
       "      <td>-75.155564</td>\n",
       "      <td>4.0</td>\n",
       "      <td>80</td>\n",
       "      <td>1</td>\n",
       "      <td>{'RestaurantsDelivery': 'False', 'OutdoorSeati...</td>\n",
       "      <td>['Restaurants', 'Food', 'Bubble Tea', 'Coffee ...</td>\n",
       "      <td>{'Monday': '7:0-20:0', 'Tuesday': '7:0-20:0', ...</td>\n",
       "      <td>True</td>\n",
       "      <td>['2010-08-18 17:05:36', '2010-11-25 17:45:31',...</td>\n",
       "      <td>[4, 4, 3, 4, 3, 4, 5, 4, 4, 5, 5, 4, 4, 3, 3, ...</td>\n",
       "      <td>[6, 1, 1, 2, 2, 5, 1, 5, 0, 0, 0, 0, 0, 1, 0, ...</td>\n",
       "      <td>[0, 0, 0, 0, 0, 0, 1, 1, 0, 0, 0, 0, 0, 0, 0, ...</td>\n",
       "      <td>[2, 1, 1, 1, 1, 3, 1, 4, 0, 0, 0, 0, 0, 0, 0, ...</td>\n",
       "      <td>0.831331</td>\n",
       "      <td>14984.0</td>\n",
       "      <td>10634.5</td>\n",
       "      <td>59706</td>\n",
       "      <td>1</td>\n",
       "      <td>not</td>\n",
       "    </tr>\n",
       "    <tr>\n",
       "      <th>1</th>\n",
       "      <td>1</td>\n",
       "      <td>1</td>\n",
       "      <td>1</td>\n",
       "      <td>CF33F8-E6oudUQ46HnavjQ</td>\n",
       "      <td>sonicdrivein</td>\n",
       "      <td>615 S Main St</td>\n",
       "      <td>Ashland City</td>\n",
       "      <td>TN</td>\n",
       "      <td>37015.0</td>\n",
       "      <td>36.269593</td>\n",
       "      <td>-87.058943</td>\n",
       "      <td>2.0</td>\n",
       "      <td>6</td>\n",
       "      <td>1</td>\n",
       "      <td>{'BusinessParking': 'None', 'BusinessAcceptsCr...</td>\n",
       "      <td>['Burgers', 'Fast Food', 'Sandwiches', 'Food',...</td>\n",
       "      <td>{'Monday': '0:0-0:0', 'Tuesday': '6:0-22:0', '...</td>\n",
       "      <td>True</td>\n",
       "      <td>['2012-12-16 05:27:33', '2013-02-15 04:00:46',...</td>\n",
       "      <td>[4, 4, 1, 1, 2, 1]</td>\n",
       "      <td>[0, 0, 0, 0, 0, 0]</td>\n",
       "      <td>[0, 0, 0, 0, 0, 0]</td>\n",
       "      <td>[0, 0, 0, 0, 0, 0]</td>\n",
       "      <td>-3.020524</td>\n",
       "      <td>18979.0</td>\n",
       "      <td>47.1</td>\n",
       "      <td>69514</td>\n",
       "      <td>48</td>\n",
       "      <td>medium</td>\n",
       "    </tr>\n",
       "    <tr>\n",
       "      <th>2</th>\n",
       "      <td>2</td>\n",
       "      <td>3</td>\n",
       "      <td>3</td>\n",
       "      <td>bBDDEgkFA1Otx9Lfe7BZUQ</td>\n",
       "      <td>sonicdrivein</td>\n",
       "      <td>2312 Dickerson Pike</td>\n",
       "      <td>Nashville</td>\n",
       "      <td>TN</td>\n",
       "      <td>37207.0</td>\n",
       "      <td>36.208102</td>\n",
       "      <td>-86.768170</td>\n",
       "      <td>1.5</td>\n",
       "      <td>10</td>\n",
       "      <td>1</td>\n",
       "      <td>{'RestaurantsAttire': \"'casual'\", 'Restaurants...</td>\n",
       "      <td>['Ice Cream &amp; Frozen Yogurt', 'Fast Food', 'Bu...</td>\n",
       "      <td>{'Monday': '0:0-0:0', 'Tuesday': '6:0-21:0', '...</td>\n",
       "      <td>True</td>\n",
       "      <td>['2011-01-17 15:31:21', '2011-02-23 21:28:08',...</td>\n",
       "      <td>[3, 2, 1, 1, 1, 1, 1, 1, 5, 1]</td>\n",
       "      <td>[1, 1, 0, 0, 0, 0, 0, 0, 0, 0]</td>\n",
       "      <td>[1, 1, 0, 0, 0, 0, 0, 0, 0, 0]</td>\n",
       "      <td>[0, 0, 0, 0, 0, 0, 0, 0, 0, 0]</td>\n",
       "      <td>-0.477870</td>\n",
       "      <td>40697.0</td>\n",
       "      <td>812.3</td>\n",
       "      <td>300000</td>\n",
       "      <td>48</td>\n",
       "      <td>medium</td>\n",
       "    </tr>\n",
       "  </tbody>\n",
       "</table>\n",
       "</div>"
      ],
      "text/plain": [
       "   Unnamed: 0.2  Unnamed: 0.1  Unnamed: 0             business_id  \\\n",
       "0             0             0           0  MTSW4McQd7CbVtyjqoe9mw   \n",
       "1             1             1           1  CF33F8-E6oudUQ46HnavjQ   \n",
       "2             2             3           3  bBDDEgkFA1Otx9Lfe7BZUQ   \n",
       "\n",
       "               name              address          city state  postal_code  \\\n",
       "0  sthonorepastries          935 Race St  Philadelphia    PA      19107.0   \n",
       "1      sonicdrivein        615 S Main St  Ashland City    TN      37015.0   \n",
       "2      sonicdrivein  2312 Dickerson Pike     Nashville    TN      37207.0   \n",
       "\n",
       "    latitude  longitude  stars  review_count  is_open  \\\n",
       "0  39.955505 -75.155564    4.0            80        1   \n",
       "1  36.269593 -87.058943    2.0             6        1   \n",
       "2  36.208102 -86.768170    1.5            10        1   \n",
       "\n",
       "                                          attributes  \\\n",
       "0  {'RestaurantsDelivery': 'False', 'OutdoorSeati...   \n",
       "1  {'BusinessParking': 'None', 'BusinessAcceptsCr...   \n",
       "2  {'RestaurantsAttire': \"'casual'\", 'Restaurants...   \n",
       "\n",
       "                                          categories  \\\n",
       "0  ['Restaurants', 'Food', 'Bubble Tea', 'Coffee ...   \n",
       "1  ['Burgers', 'Fast Food', 'Sandwiches', 'Food',...   \n",
       "2  ['Ice Cream & Frozen Yogurt', 'Fast Food', 'Bu...   \n",
       "\n",
       "                                               hours  is_restaurant  \\\n",
       "0  {'Monday': '7:0-20:0', 'Tuesday': '7:0-20:0', ...           True   \n",
       "1  {'Monday': '0:0-0:0', 'Tuesday': '6:0-22:0', '...           True   \n",
       "2  {'Monday': '0:0-0:0', 'Tuesday': '6:0-21:0', '...           True   \n",
       "\n",
       "                                         checkinDate  \\\n",
       "0  ['2010-08-18 17:05:36', '2010-11-25 17:45:31',...   \n",
       "1  ['2012-12-16 05:27:33', '2013-02-15 04:00:46',...   \n",
       "2  ['2011-01-17 15:31:21', '2011-02-23 21:28:08',...   \n",
       "\n",
       "                                            starList  \\\n",
       "0  [4, 4, 3, 4, 3, 4, 5, 4, 4, 5, 5, 4, 4, 3, 3, ...   \n",
       "1                                 [4, 4, 1, 1, 2, 1]   \n",
       "2                     [3, 2, 1, 1, 1, 1, 1, 1, 5, 1]   \n",
       "\n",
       "                                              useful  \\\n",
       "0  [6, 1, 1, 2, 2, 5, 1, 5, 0, 0, 0, 0, 0, 1, 0, ...   \n",
       "1                                 [0, 0, 0, 0, 0, 0]   \n",
       "2                     [1, 1, 0, 0, 0, 0, 0, 0, 0, 0]   \n",
       "\n",
       "                                               funny  \\\n",
       "0  [0, 0, 0, 0, 0, 0, 1, 1, 0, 0, 0, 0, 0, 0, 0, ...   \n",
       "1                                 [0, 0, 0, 0, 0, 0]   \n",
       "2                     [1, 1, 0, 0, 0, 0, 0, 0, 0, 0]   \n",
       "\n",
       "                                                cool  StarSlope  population  \\\n",
       "0  [2, 1, 1, 1, 1, 3, 1, 4, 0, 0, 0, 0, 0, 0, 0, ...   0.831331     14984.0   \n",
       "1                                 [0, 0, 0, 0, 0, 0]  -3.020524     18979.0   \n",
       "2                     [0, 0, 0, 0, 0, 0, 0, 0, 0, 0]  -0.477870     40697.0   \n",
       "\n",
       "   pop_density  median_income  locations   chain  \n",
       "0      10634.5          59706          1     not  \n",
       "1         47.1          69514         48  medium  \n",
       "2        812.3         300000         48  medium  "
      ]
     },
     "execution_count": 2,
     "metadata": {},
     "output_type": "execute_result"
    }
   ],
   "source": [
    "df = pd.read_csv(r'C:\\Users\\Garrett Pinkston\\Desktop\\TIM147\\Project\\data\\RestaurantInfoComplete.csv')\n",
    "df.head(3)"
   ]
  },
  {
   "cell_type": "code",
   "execution_count": 35,
   "id": "45c19c81-cb19-42be-8d1f-4a1c86eaeaf3",
   "metadata": {
    "tags": []
   },
   "outputs": [
    {
     "data": {
      "text/plain": [
       "'{\\'BusinessParking\\': \\'None\\', \\'BusinessAcceptsCreditCards\\': \\'True\\', \\'RestaurantsAttire\\': \"u\\'casual\\'\", \\'OutdoorSeating\\': \\'True\\', \\'RestaurantsReservations\\': \\'False\\', \\'Caters\\': \\'False\\', \\'RestaurantsTakeOut\\': \\'True\\', \\'Alcohol\\': \"u\\'none\\'\", \\'Ambience\\': \\'None\\', \\'GoodForKids\\': \\'True\\', \\'RestaurantsPriceRange2\\': \\'1\\', \\'ByAppointmentOnly\\': \\'False\\', \\'CoatCheck\\': \\'False\\', \\'DogsAllowed\\': \\'False\\', \\'RestaurantsTableService\\': \\'False\\', \\'RestaurantsGoodForGroups\\': \\'True\\', \\'RestaurantsDelivery\\': \\'True\\', \\'WiFi\\': \"u\\'no\\'\", \\'WheelchairAccessible\\': \\'True\\', \\'HasTV\\': \\'True\\', \\'HappyHour\\': \\'False\\', \\'DriveThru\\': \\'True\\', \\'BikeParking\\': \\'False\\'}'"
      ]
     },
     "execution_count": 35,
     "metadata": {},
     "output_type": "execute_result"
    }
   ],
   "source": [
    "df['attributes'][1]"
   ]
  },
  {
   "cell_type": "code",
   "execution_count": 4,
   "id": "e0457989-b991-44f9-a271-4c3e2c37cd3b",
   "metadata": {
    "tags": []
   },
   "outputs": [],
   "source": [
    "import pandas as pd\n",
    "\n",
    "# Assuming your DataFrame is named df\n",
    "df['RestaurantsTakeOut'] = df['attributes'].apply(lambda x: eval(x).get('RestaurantsTakeOut') if 'RestaurantsTakeOut' in eval(x) else None)\n"
   ]
  },
  {
   "cell_type": "code",
   "execution_count": 5,
   "id": "a28571fb-fb8c-4bba-8935-4e252395494d",
   "metadata": {
    "tags": []
   },
   "outputs": [
    {
     "data": {
      "text/plain": [
       "0         True\n",
       "1         True\n",
       "2         True\n",
       "3         True\n",
       "4         True\n",
       "         ...  \n",
       "19030     True\n",
       "19031    False\n",
       "19032     True\n",
       "19033     True\n",
       "19034     True\n",
       "Name: RestaurantsTakeOut, Length: 19035, dtype: object"
      ]
     },
     "execution_count": 5,
     "metadata": {},
     "output_type": "execute_result"
    }
   ],
   "source": [
    "df['OffersTakeOut']"
   ]
  },
  {
   "cell_type": "code",
   "execution_count": 32,
   "id": "f9f54662-ec36-46fe-aa20-fd188517b9f2",
   "metadata": {
    "tags": []
   },
   "outputs": [],
   "source": []
  },
  {
   "cell_type": "code",
   "execution_count": 34,
   "id": "7c7d56cd-f227-42db-92c3-18d5b7f55aef",
   "metadata": {
    "tags": []
   },
   "outputs": [
    {
     "data": {
      "text/plain": [
       "5"
      ]
     },
     "execution_count": 34,
     "metadata": {},
     "output_type": "execute_result"
    }
   ],
   "source": [
    "df['Price'].nunique()"
   ]
  },
  {
   "cell_type": "code",
   "execution_count": null,
   "id": "1cbf9e15-fdeb-4c72-875b-8cd76bf3a325",
   "metadata": {},
   "outputs": [],
   "source": []
  }
 ],
 "metadata": {
  "kernelspec": {
   "display_name": "Python 3 (ipykernel)",
   "language": "python",
   "name": "python3"
  },
  "language_info": {
   "codemirror_mode": {
    "name": "ipython",
    "version": 3
   },
   "file_extension": ".py",
   "mimetype": "text/x-python",
   "name": "python",
   "nbconvert_exporter": "python",
   "pygments_lexer": "ipython3",
   "version": "3.11.5"
  }
 },
 "nbformat": 4,
 "nbformat_minor": 5
}
