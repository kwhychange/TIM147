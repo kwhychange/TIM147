{
 "cells": [
  {
   "cell_type": "code",
   "execution_count": null,
   "id": "1b85e351-c6fe-4b2f-affb-858f1fcd14ab",
   "metadata": {},
   "outputs": [],
   "source": [
    "# Merge features from various datasets, including creating new ones.\n",
    "# This file currently includes merging population and population density,\n",
    "# income, "
   ]
  },
  {
   "cell_type": "code",
   "execution_count": 1,
   "id": "d310f7e9-5b14-4fb4-8ef1-0dd1505db1a4",
   "metadata": {},
   "outputs": [],
   "source": [
    "# Merge yelp business dataset with population & population density from simple maps dataset\n",
    "\n",
    "import pandas as pd\n",
    "\n",
    "yelpBus_df = pd.read_json('/Users/james/TIM147/yelp_dataset/yelp_academic_dataset_business.json',lines=True) # Import yelp business data\n",
    "simple_df = pd.read_csv('/Users/james/Tim147/simplemaps_uszips_basicv1/uszips.csv',) # Import simple maps data\n",
    "income_df = pd.read_csv('/Users/james/Tim147/income_dataset/kaggle_income.csv', encoding='iso-8859-1 ',)"
   ]
  },
  {
   "cell_type": "code",
   "execution_count": null,
   "id": "434c2726-9f5f-471e-966a-0b163110f8a4",
   "metadata": {},
   "outputs": [],
   "source": []
  },
  {
   "cell_type": "code",
   "execution_count": 2,
   "id": "a09409e7-45ad-413c-b20f-0e1d1990b45f",
   "metadata": {},
   "outputs": [],
   "source": [
    "yelpBus_df['postal_code'] = pd.to_numeric(yelpBus_df['postal_code'], errors='coerce') # Convert postal code from object to float64\n",
    "yelpBus_df['postal_code'] = yelpBus_df['postal_code'].astype('Int64') # Convert postal code from float64 to Int64, with capital I so that it works with nan values"
   ]
  },
  {
   "cell_type": "code",
   "execution_count": 3,
   "id": "e965c9a5-c252-46b3-bf5e-23f9336510bb",
   "metadata": {},
   "outputs": [],
   "source": [
    "simple_df = simple_df[['zip','population','density']]\n",
    "simple_df = simple_df.rename(columns = {'zip': 'postal_code', 'density': 'pop_density'})"
   ]
  },
  {
   "cell_type": "code",
   "execution_count": 4,
   "id": "02b0c942-4495-4ab8-ae99-e54cdfdfb006",
   "metadata": {},
   "outputs": [],
   "source": [
    "merged_df = pd.merge(yelpBus_df, simple_df, on='postal_code', how='left') # Merge "
   ]
  },
  {
   "cell_type": "code",
   "execution_count": null,
   "id": "d5b21824-a836-4c67-a8f6-dc4b8dbefb2e",
   "metadata": {},
   "outputs": [],
   "source": []
  },
  {
   "cell_type": "code",
   "execution_count": 5,
   "id": "8c80e705-aea2-4950-9c0c-ab89fc238d7d",
   "metadata": {},
   "outputs": [],
   "source": [
    "# Merge income on nearest latitude & longitude\n",
    "\n",
    "import geopandas as gpd\n",
    "from geopandas.tools import sjoin_nearest # Spatial join\n",
    "from shapely.geometry import Point # \n",
    "\n",
    "income_df = income_df[['Lat','Lon','Median']]\n",
    "income_df = income_df.rename(columns = {'Median': 'median_income'})"
   ]
  },
  {
   "cell_type": "code",
   "execution_count": 6,
   "id": "a17f72c0-400a-4ddb-a8ab-4eca4d3282a6",
   "metadata": {},
   "outputs": [],
   "source": [
    "left_geo = [Point(xy) for xy in zip(merged_df['latitude'],merged_df['longitude'])] # Lat & lon of restaurant\n",
    "right_geo = [Point(xy) for xy in zip(income_df['Lat'],income_df['Lon'])]"
   ]
  },
  {
   "cell_type": "code",
   "execution_count": 7,
   "id": "d5251d95-b58a-43d4-9b53-337703443090",
   "metadata": {},
   "outputs": [],
   "source": [
    "merged_gdf = gpd.GeoDataFrame(merged_df, geometry=left_geo)\n",
    "income_gdf = gpd.GeoDataFrame(income_df, geometry=right_geo)"
   ]
  },
  {
   "cell_type": "code",
   "execution_count": 8,
   "id": "2161a2c3-a03a-4bbd-8119-d2220e4c5beb",
   "metadata": {},
   "outputs": [],
   "source": [
    "sjoined_gdf = sjoin_nearest(merged_gdf, income_gdf, how='left')"
   ]
  },
  {
   "cell_type": "code",
   "execution_count": 9,
   "id": "ee24e6e6-22e7-4d66-83cf-f4b2bc465031",
   "metadata": {},
   "outputs": [],
   "source": [
    "sjoined_df = sjoined_gdf.drop(['geometry','index_right','Lat','Lon'], axis=1)"
   ]
  },
  {
   "cell_type": "code",
   "execution_count": 10,
   "id": "33e7764d-02d5-4199-bf3b-7b4b440d3550",
   "metadata": {},
   "outputs": [],
   "source": [
    "sjoined_df.to_csv('yelp_business_plus.csv') #This is unnecessary at this point; other code will be used to save."
   ]
  },
  {
   "cell_type": "code",
   "execution_count": 11,
   "id": "5cd8fb86-9f0d-4ce2-88a4-07d49eaf14b1",
   "metadata": {},
   "outputs": [
    {
     "name": "stdout",
     "output_type": "stream",
     "text": [
      "<class 'pandas.core.frame.DataFrame'>\n",
      "Index: 162988 entries, 0 to 150345\n",
      "Data columns (total 17 columns):\n",
      " #   Column         Non-Null Count   Dtype  \n",
      "---  ------         --------------   -----  \n",
      " 0   business_id    162988 non-null  object \n",
      " 1   name           162988 non-null  object \n",
      " 2   address        162988 non-null  object \n",
      " 3   city           162988 non-null  object \n",
      " 4   state          162988 non-null  object \n",
      " 5   postal_code    157354 non-null  Int64  \n",
      " 6   latitude       162988 non-null  float64\n",
      " 7   longitude      162988 non-null  float64\n",
      " 8   stars          162988 non-null  float64\n",
      " 9   review_count   162988 non-null  int64  \n",
      " 10  is_open        162988 non-null  int64  \n",
      " 11  attributes     148067 non-null  object \n",
      " 12  categories     162873 non-null  object \n",
      " 13  hours          137871 non-null  object \n",
      " 14  population     156234 non-null  float64\n",
      " 15  pop_density    156234 non-null  float64\n",
      " 16  median_income  162988 non-null  int64  \n",
      "dtypes: Int64(1), float64(5), int64(3), object(8)\n",
      "memory usage: 22.5+ MB\n"
     ]
    }
   ],
   "source": [
    "sjoined_df.info()"
   ]
  },
  {
   "cell_type": "code",
   "execution_count": 12,
   "id": "d7f1eb31-4cf7-480c-b9e6-56d88b9ecdb7",
   "metadata": {},
   "outputs": [],
   "source": [
    "# Create the feature for size of chain."
   ]
  },
  {
   "cell_type": "code",
   "execution_count": 13,
   "id": "623330a8-bde6-447d-86b5-4dbd56bfe40f",
   "metadata": {},
   "outputs": [],
   "source": [
    "# Regularize the strings of the business names\n",
    "sjoined_df['name'] = sjoined_df['name'].str.lower() # Make all lowercase\n",
    "sjoined_df['name'] = sjoined_df['name'].str.strip() # Strip leading and following spaces\n",
    "sjoined_df['name'] = sjoined_df['name'].str.replace('[^a-zA-Z0-9]','', regex=True)\n",
    "\n",
    "# Calculate the number of locations for each business and create a column for it.\n",
    "sjoined_df['locations'] = sjoined_df.groupby('name')['name'].transform('count')"
   ]
  },
  {
   "cell_type": "code",
   "execution_count": null,
   "id": "6d69b0b5-5ecf-45d3-8fa9-5e743fe499e8",
   "metadata": {},
   "outputs": [],
   "source": [
    "# Validated that the number of locations in the dataset is actually correct.\n",
    "check_location_count = sjoined_df[sjoined_df['name'] == 'arbys']\n",
    "check_location_count"
   ]
  },
  {
   "cell_type": "code",
   "execution_count": 16,
   "id": "457ab80a-aa36-4891-89fe-3d2f57d83761",
   "metadata": {
    "scrolled": true
   },
   "outputs": [],
   "source": [
    "'''Create intervals of chain size. 1-3 locations is considered not a chain\n",
    "because it requires very little infrastructure and can be run by one business\n",
    "owner. 4-20 locations is considered a small chain, as ACA chain restaurant regulations\n",
    "begin at 20 locations. 21-50 is a medium chain, 51-100 a large, and 101+ a mega chain.\n",
    "This may be biased by the fact that not all locations are included in the dataset,\n",
    "especially for large and mega chains.'''\n",
    "\n",
    "bins = [0, 3, 20, 50, 100, float('inf')]\n",
    "labels = ['not', 'small', 'medium', 'large', 'mega']\n",
    "sjoined_df['chain'] = pd.cut(sjoined_df['locations'], bins=bins, labels=labels, right=False)"
   ]
  },
  {
   "cell_type": "code",
   "execution_count": 17,
   "id": "4a7f56d6-3701-4f35-a145-a6b1ccc9060f",
   "metadata": {
    "scrolled": true
   },
   "outputs": [],
   "source": [
    "# Create and normalize the one-hots for chain.\n",
    "encoded_df = pd.get_dummies(sjoined_df, columns=['chain'])\n",
    "encoded_df['chain_not'] = encoded_df['chain_not'].astype(int)\n",
    "encoded_df['chain_small'] = encoded_df['chain_small'].astype(int)\n",
    "encoded_df['chain_medium'] = encoded_df['chain_medium'].astype(int)\n",
    "encoded_df['chain_large'] = encoded_df['chain_large'].astype(int)\n",
    "encoded_df['chain_mega'] = encoded_df['chain_mega'].astype(int)"
   ]
  },
  {
   "cell_type": "code",
   "execution_count": 18,
   "id": "a439cba7-7eba-49cd-b8d0-82ec62a69725",
   "metadata": {},
   "outputs": [
    {
     "name": "stdout",
     "output_type": "stream",
     "text": [
      "<class 'pandas.core.frame.DataFrame'>\n",
      "Index: 162988 entries, 0 to 150345\n",
      "Data columns (total 23 columns):\n",
      " #   Column         Non-Null Count   Dtype  \n",
      "---  ------         --------------   -----  \n",
      " 0   business_id    162988 non-null  object \n",
      " 1   name           162988 non-null  object \n",
      " 2   address        162988 non-null  object \n",
      " 3   city           162988 non-null  object \n",
      " 4   state          162988 non-null  object \n",
      " 5   postal_code    157354 non-null  Int64  \n",
      " 6   latitude       162988 non-null  float64\n",
      " 7   longitude      162988 non-null  float64\n",
      " 8   stars          162988 non-null  float64\n",
      " 9   review_count   162988 non-null  int64  \n",
      " 10  is_open        162988 non-null  int64  \n",
      " 11  attributes     148067 non-null  object \n",
      " 12  categories     162873 non-null  object \n",
      " 13  hours          137871 non-null  object \n",
      " 14  population     156234 non-null  float64\n",
      " 15  pop_density    156234 non-null  float64\n",
      " 16  median_income  162988 non-null  int64  \n",
      " 17  locations      162988 non-null  int64  \n",
      " 18  chain_not      162988 non-null  int64  \n",
      " 19  chain_small    162988 non-null  int64  \n",
      " 20  chain_medium   162988 non-null  int64  \n",
      " 21  chain_large    162988 non-null  int64  \n",
      " 22  chain_mega     162988 non-null  int64  \n",
      "dtypes: Int64(1), float64(5), int64(9), object(8)\n",
      "memory usage: 30.0+ MB\n"
     ]
    }
   ],
   "source": [
    "encoded_df.info()"
   ]
  },
  {
   "cell_type": "code",
   "execution_count": 24,
   "id": "cfab0b77-8f07-4bcd-880b-64e6d07252f2",
   "metadata": {},
   "outputs": [],
   "source": [
    "# Normalize median income, population density, population, review count, locations\n",
    "from sklearn.preprocessing import MinMaxScaler\n",
    "\n",
    "scaler = MinMaxScaler()\n",
    "cols = ['review_count', 'population', 'pop_density', 'median_income', 'locations']\n",
    "encoded_df[cols] = mmscaler.fit_transform(encoded_df[cols])"
   ]
  },
  {
   "cell_type": "code",
   "execution_count": 25,
   "id": "dcc8dc62-763c-4841-b8eb-d5adfb894691",
   "metadata": {},
   "outputs": [
    {
     "data": {
      "text/html": [
       "<div>\n",
       "<style scoped>\n",
       "    .dataframe tbody tr th:only-of-type {\n",
       "        vertical-align: middle;\n",
       "    }\n",
       "\n",
       "    .dataframe tbody tr th {\n",
       "        vertical-align: top;\n",
       "    }\n",
       "\n",
       "    .dataframe thead th {\n",
       "        text-align: right;\n",
       "    }\n",
       "</style>\n",
       "<table border=\"1\" class=\"dataframe\">\n",
       "  <thead>\n",
       "    <tr style=\"text-align: right;\">\n",
       "      <th></th>\n",
       "      <th>business_id</th>\n",
       "      <th>name</th>\n",
       "      <th>address</th>\n",
       "      <th>city</th>\n",
       "      <th>state</th>\n",
       "      <th>postal_code</th>\n",
       "      <th>latitude</th>\n",
       "      <th>longitude</th>\n",
       "      <th>stars</th>\n",
       "      <th>review_count</th>\n",
       "      <th>...</th>\n",
       "      <th>hours</th>\n",
       "      <th>population</th>\n",
       "      <th>pop_density</th>\n",
       "      <th>median_income</th>\n",
       "      <th>locations</th>\n",
       "      <th>chain_not</th>\n",
       "      <th>chain_small</th>\n",
       "      <th>chain_medium</th>\n",
       "      <th>chain_large</th>\n",
       "      <th>chain_mega</th>\n",
       "    </tr>\n",
       "  </thead>\n",
       "  <tbody>\n",
       "    <tr>\n",
       "      <th>0</th>\n",
       "      <td>Pns2l4eNsfO8kk83dixA6A</td>\n",
       "      <td>abbyrappoportlaccmq</td>\n",
       "      <td>1616 Chapala St, Ste 2</td>\n",
       "      <td>Santa Barbara</td>\n",
       "      <td>CA</td>\n",
       "      <td>93101</td>\n",
       "      <td>34.426679</td>\n",
       "      <td>-119.711197</td>\n",
       "      <td>5.0</td>\n",
       "      <td>0.000264</td>\n",
       "      <td>...</td>\n",
       "      <td>None</td>\n",
       "      <td>0.307670</td>\n",
       "      <td>0.249804</td>\n",
       "      <td>0.192013</td>\n",
       "      <td>0.000000</td>\n",
       "      <td>1</td>\n",
       "      <td>0</td>\n",
       "      <td>0</td>\n",
       "      <td>0</td>\n",
       "      <td>0</td>\n",
       "    </tr>\n",
       "    <tr>\n",
       "      <th>1</th>\n",
       "      <td>mpf3x-BjTdTEA3yCZrAYPw</td>\n",
       "      <td>theupsstore</td>\n",
       "      <td>87 Grasso Plaza Shopping Center</td>\n",
       "      <td>Affton</td>\n",
       "      <td>MO</td>\n",
       "      <td>63123</td>\n",
       "      <td>38.551126</td>\n",
       "      <td>-90.335695</td>\n",
       "      <td>3.0</td>\n",
       "      <td>0.001322</td>\n",
       "      <td>...</td>\n",
       "      <td>{'Monday': '0:0-0:0', 'Tuesday': '8:0-18:30', ...</td>\n",
       "      <td>0.488198</td>\n",
       "      <td>0.101925</td>\n",
       "      <td>0.164083</td>\n",
       "      <td>0.382353</td>\n",
       "      <td>0</td>\n",
       "      <td>0</td>\n",
       "      <td>0</td>\n",
       "      <td>0</td>\n",
       "      <td>1</td>\n",
       "    </tr>\n",
       "    <tr>\n",
       "      <th>2</th>\n",
       "      <td>tUFrWirKiKi_TAnsVWINQQ</td>\n",
       "      <td>target</td>\n",
       "      <td>5255 E Broadway Blvd</td>\n",
       "      <td>Tucson</td>\n",
       "      <td>AZ</td>\n",
       "      <td>85711</td>\n",
       "      <td>32.223236</td>\n",
       "      <td>-110.880452</td>\n",
       "      <td>3.5</td>\n",
       "      <td>0.002248</td>\n",
       "      <td>...</td>\n",
       "      <td>{'Monday': '8:0-22:0', 'Tuesday': '8:0-22:0', ...</td>\n",
       "      <td>0.404848</td>\n",
       "      <td>0.122170</td>\n",
       "      <td>0.058060</td>\n",
       "      <td>0.156010</td>\n",
       "      <td>0</td>\n",
       "      <td>0</td>\n",
       "      <td>0</td>\n",
       "      <td>0</td>\n",
       "      <td>1</td>\n",
       "    </tr>\n",
       "    <tr>\n",
       "      <th>3</th>\n",
       "      <td>MTSW4McQd7CbVtyjqoe9mw</td>\n",
       "      <td>sthonorepastries</td>\n",
       "      <td>935 Race St</td>\n",
       "      <td>Philadelphia</td>\n",
       "      <td>PA</td>\n",
       "      <td>19107</td>\n",
       "      <td>39.955505</td>\n",
       "      <td>-75.155564</td>\n",
       "      <td>4.0</td>\n",
       "      <td>0.009917</td>\n",
       "      <td>...</td>\n",
       "      <td>{'Monday': '7:0-20:0', 'Tuesday': '7:0-20:0', ...</td>\n",
       "      <td>0.146637</td>\n",
       "      <td>0.700842</td>\n",
       "      <td>0.199020</td>\n",
       "      <td>0.000000</td>\n",
       "      <td>1</td>\n",
       "      <td>0</td>\n",
       "      <td>0</td>\n",
       "      <td>0</td>\n",
       "      <td>0</td>\n",
       "    </tr>\n",
       "    <tr>\n",
       "      <th>4</th>\n",
       "      <td>mWMc6_wTdE0EUBKIGXDVfA</td>\n",
       "      <td>perkiomenvalleybrewery</td>\n",
       "      <td>101 Walnut St</td>\n",
       "      <td>Green Lane</td>\n",
       "      <td>PA</td>\n",
       "      <td>18054</td>\n",
       "      <td>40.338183</td>\n",
       "      <td>-75.471659</td>\n",
       "      <td>4.5</td>\n",
       "      <td>0.001058</td>\n",
       "      <td>...</td>\n",
       "      <td>{'Wednesday': '14:0-22:0', 'Thursday': '16:0-2...</td>\n",
       "      <td>0.050272</td>\n",
       "      <td>0.007717</td>\n",
       "      <td>0.299457</td>\n",
       "      <td>0.000000</td>\n",
       "      <td>1</td>\n",
       "      <td>0</td>\n",
       "      <td>0</td>\n",
       "      <td>0</td>\n",
       "      <td>0</td>\n",
       "    </tr>\n",
       "  </tbody>\n",
       "</table>\n",
       "<p>5 rows × 23 columns</p>\n",
       "</div>"
      ],
      "text/plain": [
       "              business_id                    name  \\\n",
       "0  Pns2l4eNsfO8kk83dixA6A     abbyrappoportlaccmq   \n",
       "1  mpf3x-BjTdTEA3yCZrAYPw             theupsstore   \n",
       "2  tUFrWirKiKi_TAnsVWINQQ                  target   \n",
       "3  MTSW4McQd7CbVtyjqoe9mw        sthonorepastries   \n",
       "4  mWMc6_wTdE0EUBKIGXDVfA  perkiomenvalleybrewery   \n",
       "\n",
       "                           address           city state  postal_code  \\\n",
       "0           1616 Chapala St, Ste 2  Santa Barbara    CA        93101   \n",
       "1  87 Grasso Plaza Shopping Center         Affton    MO        63123   \n",
       "2             5255 E Broadway Blvd         Tucson    AZ        85711   \n",
       "3                      935 Race St   Philadelphia    PA        19107   \n",
       "4                    101 Walnut St     Green Lane    PA        18054   \n",
       "\n",
       "    latitude   longitude  stars  review_count  ...  \\\n",
       "0  34.426679 -119.711197    5.0      0.000264  ...   \n",
       "1  38.551126  -90.335695    3.0      0.001322  ...   \n",
       "2  32.223236 -110.880452    3.5      0.002248  ...   \n",
       "3  39.955505  -75.155564    4.0      0.009917  ...   \n",
       "4  40.338183  -75.471659    4.5      0.001058  ...   \n",
       "\n",
       "                                               hours population pop_density  \\\n",
       "0                                               None   0.307670    0.249804   \n",
       "1  {'Monday': '0:0-0:0', 'Tuesday': '8:0-18:30', ...   0.488198    0.101925   \n",
       "2  {'Monday': '8:0-22:0', 'Tuesday': '8:0-22:0', ...   0.404848    0.122170   \n",
       "3  {'Monday': '7:0-20:0', 'Tuesday': '7:0-20:0', ...   0.146637    0.700842   \n",
       "4  {'Wednesday': '14:0-22:0', 'Thursday': '16:0-2...   0.050272    0.007717   \n",
       "\n",
       "  median_income  locations  chain_not  chain_small  chain_medium  chain_large  \\\n",
       "0      0.192013   0.000000          1            0             0            0   \n",
       "1      0.164083   0.382353          0            0             0            0   \n",
       "2      0.058060   0.156010          0            0             0            0   \n",
       "3      0.199020   0.000000          1            0             0            0   \n",
       "4      0.299457   0.000000          1            0             0            0   \n",
       "\n",
       "   chain_mega  \n",
       "0           0  \n",
       "1           1  \n",
       "2           1  \n",
       "3           0  \n",
       "4           0  \n",
       "\n",
       "[5 rows x 23 columns]"
      ]
     },
     "execution_count": 25,
     "metadata": {},
     "output_type": "execute_result"
    }
   ],
   "source": [
    "encoded_df.head()"
   ]
  },
  {
   "cell_type": "code",
   "execution_count": null,
   "id": "e684b2d4-89a0-47ed-8699-40122a9e0a32",
   "metadata": {},
   "outputs": [],
   "source": []
  }
 ],
 "metadata": {
  "kernelspec": {
   "display_name": "Python 3 (ipykernel)",
   "language": "python",
   "name": "python3"
  },
  "language_info": {
   "codemirror_mode": {
    "name": "ipython",
    "version": 3
   },
   "file_extension": ".py",
   "mimetype": "text/x-python",
   "name": "python",
   "nbconvert_exporter": "python",
   "pygments_lexer": "ipython3",
   "version": "3.11.5"
  }
 },
 "nbformat": 4,
 "nbformat_minor": 5
}
