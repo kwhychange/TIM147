{
 "cells": [
  {
   "cell_type": "code",
   "execution_count": 1,
   "id": "a2721400-6d38-4f60-b4a1-e856e9a91b79",
   "metadata": {
    "tags": []
   },
   "outputs": [
    {
     "data": {
      "text/plain": [
       "'import sys\\n!conda install --yes --prefix {sys.prefix} graphviz'"
      ]
     },
     "execution_count": 1,
     "metadata": {},
     "output_type": "execute_result"
    }
   ],
   "source": [
    "'''import sys\n",
    "!conda install --yes --prefix {sys.prefix} graphviz'''"
   ]
  },
  {
   "cell_type": "code",
   "execution_count": 2,
   "id": "c4fb8df7-8402-45fe-a945-9b98e73df417",
   "metadata": {
    "tags": []
   },
   "outputs": [],
   "source": [
    "import os\n",
    "import numpy as np\n",
    "import pandas as pd\n",
    "import math\n",
    "import matplotlib.pylab as plt\n",
    "import seaborn as sns\n",
    "\n",
    "%matplotlib inline\n",
    "sns.set(style='ticks', palette='Set2')"
   ]
  },
  {
   "cell_type": "code",
   "execution_count": 3,
   "id": "9459674a-3b91-489c-8a5e-f10127673912",
   "metadata": {
    "tags": []
   },
   "outputs": [
    {
     "data": {
      "text/html": [
       "<div>\n",
       "<style scoped>\n",
       "    .dataframe tbody tr th:only-of-type {\n",
       "        vertical-align: middle;\n",
       "    }\n",
       "\n",
       "    .dataframe tbody tr th {\n",
       "        vertical-align: top;\n",
       "    }\n",
       "\n",
       "    .dataframe thead th {\n",
       "        text-align: right;\n",
       "    }\n",
       "</style>\n",
       "<table border=\"1\" class=\"dataframe\">\n",
       "  <thead>\n",
       "    <tr style=\"text-align: right;\">\n",
       "      <th></th>\n",
       "      <th>COLLEGE</th>\n",
       "      <th>INCOME</th>\n",
       "      <th>OVERAGE</th>\n",
       "      <th>LEFTOVER</th>\n",
       "      <th>HOUSE</th>\n",
       "      <th>HANDSET_PRICE</th>\n",
       "      <th>OVER_15MINS_CALLS_PER_MONTH</th>\n",
       "      <th>AVERAGE_CALL_DURATION</th>\n",
       "      <th>REPORTED_SATISFACTION</th>\n",
       "      <th>REPORTED_USAGE_LEVEL</th>\n",
       "      <th>CONSIDERING_CHANGE_OF_PLAN</th>\n",
       "      <th>LEAVE</th>\n",
       "    </tr>\n",
       "  </thead>\n",
       "  <tbody>\n",
       "    <tr>\n",
       "      <th>0</th>\n",
       "      <td>0</td>\n",
       "      <td>31953</td>\n",
       "      <td>0</td>\n",
       "      <td>6</td>\n",
       "      <td>313378</td>\n",
       "      <td>161</td>\n",
       "      <td>0</td>\n",
       "      <td>4</td>\n",
       "      <td>1</td>\n",
       "      <td>1</td>\n",
       "      <td>1</td>\n",
       "      <td>0</td>\n",
       "    </tr>\n",
       "    <tr>\n",
       "      <th>1</th>\n",
       "      <td>1</td>\n",
       "      <td>36147</td>\n",
       "      <td>0</td>\n",
       "      <td>13</td>\n",
       "      <td>800586</td>\n",
       "      <td>244</td>\n",
       "      <td>0</td>\n",
       "      <td>6</td>\n",
       "      <td>1</td>\n",
       "      <td>1</td>\n",
       "      <td>3</td>\n",
       "      <td>0</td>\n",
       "    </tr>\n",
       "    <tr>\n",
       "      <th>2</th>\n",
       "      <td>1</td>\n",
       "      <td>27273</td>\n",
       "      <td>230</td>\n",
       "      <td>0</td>\n",
       "      <td>305049</td>\n",
       "      <td>201</td>\n",
       "      <td>16</td>\n",
       "      <td>15</td>\n",
       "      <td>1</td>\n",
       "      <td>0</td>\n",
       "      <td>2</td>\n",
       "      <td>0</td>\n",
       "    </tr>\n",
       "    <tr>\n",
       "      <th>3</th>\n",
       "      <td>0</td>\n",
       "      <td>120070</td>\n",
       "      <td>38</td>\n",
       "      <td>33</td>\n",
       "      <td>788235</td>\n",
       "      <td>780</td>\n",
       "      <td>3</td>\n",
       "      <td>2</td>\n",
       "      <td>1</td>\n",
       "      <td>4</td>\n",
       "      <td>3</td>\n",
       "      <td>1</td>\n",
       "    </tr>\n",
       "    <tr>\n",
       "      <th>4</th>\n",
       "      <td>1</td>\n",
       "      <td>29215</td>\n",
       "      <td>208</td>\n",
       "      <td>85</td>\n",
       "      <td>224784</td>\n",
       "      <td>241</td>\n",
       "      <td>21</td>\n",
       "      <td>1</td>\n",
       "      <td>0</td>\n",
       "      <td>1</td>\n",
       "      <td>0</td>\n",
       "      <td>0</td>\n",
       "    </tr>\n",
       "  </tbody>\n",
       "</table>\n",
       "</div>"
      ],
      "text/plain": [
       "   COLLEGE  INCOME  OVERAGE  LEFTOVER   HOUSE  HANDSET_PRICE  \\\n",
       "0        0   31953        0         6  313378            161   \n",
       "1        1   36147        0        13  800586            244   \n",
       "2        1   27273      230         0  305049            201   \n",
       "3        0  120070       38        33  788235            780   \n",
       "4        1   29215      208        85  224784            241   \n",
       "\n",
       "   OVER_15MINS_CALLS_PER_MONTH  AVERAGE_CALL_DURATION  REPORTED_SATISFACTION  \\\n",
       "0                            0                      4                      1   \n",
       "1                            0                      6                      1   \n",
       "2                           16                     15                      1   \n",
       "3                            3                      2                      1   \n",
       "4                           21                      1                      0   \n",
       "\n",
       "   REPORTED_USAGE_LEVEL  CONSIDERING_CHANGE_OF_PLAN  LEAVE  \n",
       "0                     1                           1      0  \n",
       "1                     1                           3      0  \n",
       "2                     0                           2      0  \n",
       "3                     4                           3      1  \n",
       "4                     1                           0      0  "
      ]
     },
     "execution_count": 3,
     "metadata": {},
     "output_type": "execute_result"
    }
   ],
   "source": [
    "# Load data\n",
    "path = \"Downloads/Customer_Churn.csv\"\n",
    "df = pd.read_csv(path).dropna()\n",
    "# Transform non numerical column to a numeric variable\n",
    "df[\"LEAVE\"] = (df.LEAVE == \"LEAVE\").astype(int) \n",
    "df[\"COLLEGE\"] = (df.COLLEGE == \"one\").astype(int)\n",
    "df[\"REPORTED_SATISFACTION\"].replace(['very_unsat', 'unsat', 'avg','sat','very_sat'], [0, 1, 2, 3, 4], inplace=True)\n",
    "df[\"REPORTED_USAGE_LEVEL\"].replace(['very_little', 'little', 'avg','high','very_high'], [0, 1, 2, 3, 4], inplace=True)\n",
    "df[\"CONSIDERING_CHANGE_OF_PLAN\"].replace(['never_thought', 'no', 'perhaps','considering',\n",
    "                                          'actively_looking_into_it'], [0, 1, 2, 3, 4], inplace=True)\n",
    "# Take a look at the data\n",
    "df.head()"
   ]
  },
  {
   "cell_type": "code",
   "execution_count": 4,
   "id": "36a32de0-6a66-4bfa-abe1-244c632fdb47",
   "metadata": {
    "tags": []
   },
   "outputs": [
    {
     "data": {
      "text/plain": [
       "(20000, 12)"
      ]
     },
     "execution_count": 4,
     "metadata": {},
     "output_type": "execute_result"
    }
   ],
   "source": [
    "df.shape"
   ]
  },
  {
   "cell_type": "code",
   "execution_count": 5,
   "id": "d821cad0-aded-407a-a523-86d5632409a8",
   "metadata": {
    "tags": []
   },
   "outputs": [],
   "source": [
    "X = df.drop(['LEAVE'], axis=1)\n",
    "Y = df['LEAVE']"
   ]
  },
  {
   "cell_type": "code",
   "execution_count": 6,
   "id": "22f97bef-612f-485d-af70-0e560b808d6a",
   "metadata": {
    "tags": []
   },
   "outputs": [],
   "source": [
    "from sklearn.model_selection import train_test_split\n",
    "X_Train, X_Test, Y_Train, Y_Test = train_test_split(X, Y, test_size = 0.25, random_state = 0)"
   ]
  },
  {
   "cell_type": "code",
   "execution_count": 7,
   "id": "1554b841-eb43-42cf-bacb-332eb51dcce1",
   "metadata": {
    "tags": []
   },
   "outputs": [
    {
     "data": {
      "text/plain": [
       "((15000, 11), (5000, 11), (15000,), (5000,))"
      ]
     },
     "execution_count": 7,
     "metadata": {},
     "output_type": "execute_result"
    }
   ],
   "source": [
    "X_Train.shape, X_Test.shape, Y_Train.shape, Y_Test.shape"
   ]
  },
  {
   "cell_type": "code",
   "execution_count": 8,
   "id": "436594b9-04dd-41c5-8b9f-443bc2ef7cf6",
   "metadata": {
    "tags": []
   },
   "outputs": [],
   "source": [
    "from sklearn.preprocessing import StandardScaler\n",
    "sc_X = StandardScaler()\n",
    "X_sTrain = sc_X.fit_transform(X_Train)\n",
    "X_sTest = sc_X.transform(X_Test)"
   ]
  },
  {
   "cell_type": "code",
   "execution_count": 9,
   "id": "dedbdac9-b39d-43e0-8f2f-cd550e6cb037",
   "metadata": {
    "tags": []
   },
   "outputs": [
    {
     "data": {
      "text/html": [
       "<style>#sk-container-id-1 {color: black;}#sk-container-id-1 pre{padding: 0;}#sk-container-id-1 div.sk-toggleable {background-color: white;}#sk-container-id-1 label.sk-toggleable__label {cursor: pointer;display: block;width: 100%;margin-bottom: 0;padding: 0.3em;box-sizing: border-box;text-align: center;}#sk-container-id-1 label.sk-toggleable__label-arrow:before {content: \"▸\";float: left;margin-right: 0.25em;color: #696969;}#sk-container-id-1 label.sk-toggleable__label-arrow:hover:before {color: black;}#sk-container-id-1 div.sk-estimator:hover label.sk-toggleable__label-arrow:before {color: black;}#sk-container-id-1 div.sk-toggleable__content {max-height: 0;max-width: 0;overflow: hidden;text-align: left;background-color: #f0f8ff;}#sk-container-id-1 div.sk-toggleable__content pre {margin: 0.2em;color: black;border-radius: 0.25em;background-color: #f0f8ff;}#sk-container-id-1 input.sk-toggleable__control:checked~div.sk-toggleable__content {max-height: 200px;max-width: 100%;overflow: auto;}#sk-container-id-1 input.sk-toggleable__control:checked~label.sk-toggleable__label-arrow:before {content: \"▾\";}#sk-container-id-1 div.sk-estimator input.sk-toggleable__control:checked~label.sk-toggleable__label {background-color: #d4ebff;}#sk-container-id-1 div.sk-label input.sk-toggleable__control:checked~label.sk-toggleable__label {background-color: #d4ebff;}#sk-container-id-1 input.sk-hidden--visually {border: 0;clip: rect(1px 1px 1px 1px);clip: rect(1px, 1px, 1px, 1px);height: 1px;margin: -1px;overflow: hidden;padding: 0;position: absolute;width: 1px;}#sk-container-id-1 div.sk-estimator {font-family: monospace;background-color: #f0f8ff;border: 1px dotted black;border-radius: 0.25em;box-sizing: border-box;margin-bottom: 0.5em;}#sk-container-id-1 div.sk-estimator:hover {background-color: #d4ebff;}#sk-container-id-1 div.sk-parallel-item::after {content: \"\";width: 100%;border-bottom: 1px solid gray;flex-grow: 1;}#sk-container-id-1 div.sk-label:hover label.sk-toggleable__label {background-color: #d4ebff;}#sk-container-id-1 div.sk-serial::before {content: \"\";position: absolute;border-left: 1px solid gray;box-sizing: border-box;top: 0;bottom: 0;left: 50%;z-index: 0;}#sk-container-id-1 div.sk-serial {display: flex;flex-direction: column;align-items: center;background-color: white;padding-right: 0.2em;padding-left: 0.2em;position: relative;}#sk-container-id-1 div.sk-item {position: relative;z-index: 1;}#sk-container-id-1 div.sk-parallel {display: flex;align-items: stretch;justify-content: center;background-color: white;position: relative;}#sk-container-id-1 div.sk-item::before, #sk-container-id-1 div.sk-parallel-item::before {content: \"\";position: absolute;border-left: 1px solid gray;box-sizing: border-box;top: 0;bottom: 0;left: 50%;z-index: -1;}#sk-container-id-1 div.sk-parallel-item {display: flex;flex-direction: column;z-index: 1;position: relative;background-color: white;}#sk-container-id-1 div.sk-parallel-item:first-child::after {align-self: flex-end;width: 50%;}#sk-container-id-1 div.sk-parallel-item:last-child::after {align-self: flex-start;width: 50%;}#sk-container-id-1 div.sk-parallel-item:only-child::after {width: 0;}#sk-container-id-1 div.sk-dashed-wrapped {border: 1px dashed gray;margin: 0 0.4em 0.5em 0.4em;box-sizing: border-box;padding-bottom: 0.4em;background-color: white;}#sk-container-id-1 div.sk-label label {font-family: monospace;font-weight: bold;display: inline-block;line-height: 1.2em;}#sk-container-id-1 div.sk-label-container {text-align: center;}#sk-container-id-1 div.sk-container {/* jupyter's `normalize.less` sets `[hidden] { display: none; }` but bootstrap.min.css set `[hidden] { display: none !important; }` so we also need the `!important` here to be able to override the default hidden behavior on the sphinx rendered scikit-learn.org. See: https://github.com/scikit-learn/scikit-learn/issues/21755 */display: inline-block !important;position: relative;}#sk-container-id-1 div.sk-text-repr-fallback {display: none;}</style><div id=\"sk-container-id-1\" class=\"sk-top-container\"><div class=\"sk-text-repr-fallback\"><pre>LinearRegression()</pre><b>In a Jupyter environment, please rerun this cell to show the HTML representation or trust the notebook. <br />On GitHub, the HTML representation is unable to render, please try loading this page with nbviewer.org.</b></div><div class=\"sk-container\" hidden><div class=\"sk-item\"><div class=\"sk-estimator sk-toggleable\"><input class=\"sk-toggleable__control sk-hidden--visually\" id=\"sk-estimator-id-1\" type=\"checkbox\" checked><label for=\"sk-estimator-id-1\" class=\"sk-toggleable__label sk-toggleable__label-arrow\">LinearRegression</label><div class=\"sk-toggleable__content\"><pre>LinearRegression()</pre></div></div></div></div></div>"
      ],
      "text/plain": [
       "LinearRegression()"
      ]
     },
     "execution_count": 9,
     "metadata": {},
     "output_type": "execute_result"
    }
   ],
   "source": [
    "from sklearn.linear_model import LinearRegression\n",
    "from sklearn import metrics\n",
    "from sklearn.metrics import accuracy_score\n",
    "\n",
    "lm = LinearRegression()\n",
    "lm.fit(X_sTrain, Y_Train)"
   ]
  },
  {
   "cell_type": "code",
   "execution_count": 10,
   "id": "13998a38-562a-4251-96dd-a725c5fa3ae0",
   "metadata": {
    "tags": []
   },
   "outputs": [
    {
     "name": "stdout",
     "output_type": "stream",
     "text": [
      "Linear Regression model achieved an accuracy of 0.704\n"
     ]
    }
   ],
   "source": [
    "from matplotlib import pyplot as plt\n",
    "from sklearn.metrics import RocCurveDisplay\n",
    "\n",
    "linear_pred = lm.predict(X_sTest)\n",
    "print('Linear Regression model achieved an accuracy of {0:0.3f}'.format(metrics.roc_auc_score(Y_Test, linear_pred)))"
   ]
  },
  {
   "cell_type": "code",
   "execution_count": 11,
   "id": "c570c03c-1832-44ed-8060-fb6b153f3ab7",
   "metadata": {
    "tags": []
   },
   "outputs": [
    {
     "name": "stdout",
     "output_type": "stream",
     "text": [
      "Linear Regression model achieved an accuracy of 0.693\n"
     ]
    }
   ],
   "source": [
    "linear_pred_train = lm.predict(X_sTrain)\n",
    "print('Linear Regression model achieved an accuracy of {0:0.3f}'.format(metrics.roc_auc_score(Y_Train, linear_pred_train)))"
   ]
  },
  {
   "cell_type": "code",
   "execution_count": 12,
   "id": "a6a9c2d8-e085-444d-96a9-8ae0a09b72b4",
   "metadata": {
    "tags": []
   },
   "outputs": [
    {
     "data": {
      "text/html": [
       "<style>#sk-container-id-2 {color: black;}#sk-container-id-2 pre{padding: 0;}#sk-container-id-2 div.sk-toggleable {background-color: white;}#sk-container-id-2 label.sk-toggleable__label {cursor: pointer;display: block;width: 100%;margin-bottom: 0;padding: 0.3em;box-sizing: border-box;text-align: center;}#sk-container-id-2 label.sk-toggleable__label-arrow:before {content: \"▸\";float: left;margin-right: 0.25em;color: #696969;}#sk-container-id-2 label.sk-toggleable__label-arrow:hover:before {color: black;}#sk-container-id-2 div.sk-estimator:hover label.sk-toggleable__label-arrow:before {color: black;}#sk-container-id-2 div.sk-toggleable__content {max-height: 0;max-width: 0;overflow: hidden;text-align: left;background-color: #f0f8ff;}#sk-container-id-2 div.sk-toggleable__content pre {margin: 0.2em;color: black;border-radius: 0.25em;background-color: #f0f8ff;}#sk-container-id-2 input.sk-toggleable__control:checked~div.sk-toggleable__content {max-height: 200px;max-width: 100%;overflow: auto;}#sk-container-id-2 input.sk-toggleable__control:checked~label.sk-toggleable__label-arrow:before {content: \"▾\";}#sk-container-id-2 div.sk-estimator input.sk-toggleable__control:checked~label.sk-toggleable__label {background-color: #d4ebff;}#sk-container-id-2 div.sk-label input.sk-toggleable__control:checked~label.sk-toggleable__label {background-color: #d4ebff;}#sk-container-id-2 input.sk-hidden--visually {border: 0;clip: rect(1px 1px 1px 1px);clip: rect(1px, 1px, 1px, 1px);height: 1px;margin: -1px;overflow: hidden;padding: 0;position: absolute;width: 1px;}#sk-container-id-2 div.sk-estimator {font-family: monospace;background-color: #f0f8ff;border: 1px dotted black;border-radius: 0.25em;box-sizing: border-box;margin-bottom: 0.5em;}#sk-container-id-2 div.sk-estimator:hover {background-color: #d4ebff;}#sk-container-id-2 div.sk-parallel-item::after {content: \"\";width: 100%;border-bottom: 1px solid gray;flex-grow: 1;}#sk-container-id-2 div.sk-label:hover label.sk-toggleable__label {background-color: #d4ebff;}#sk-container-id-2 div.sk-serial::before {content: \"\";position: absolute;border-left: 1px solid gray;box-sizing: border-box;top: 0;bottom: 0;left: 50%;z-index: 0;}#sk-container-id-2 div.sk-serial {display: flex;flex-direction: column;align-items: center;background-color: white;padding-right: 0.2em;padding-left: 0.2em;position: relative;}#sk-container-id-2 div.sk-item {position: relative;z-index: 1;}#sk-container-id-2 div.sk-parallel {display: flex;align-items: stretch;justify-content: center;background-color: white;position: relative;}#sk-container-id-2 div.sk-item::before, #sk-container-id-2 div.sk-parallel-item::before {content: \"\";position: absolute;border-left: 1px solid gray;box-sizing: border-box;top: 0;bottom: 0;left: 50%;z-index: -1;}#sk-container-id-2 div.sk-parallel-item {display: flex;flex-direction: column;z-index: 1;position: relative;background-color: white;}#sk-container-id-2 div.sk-parallel-item:first-child::after {align-self: flex-end;width: 50%;}#sk-container-id-2 div.sk-parallel-item:last-child::after {align-self: flex-start;width: 50%;}#sk-container-id-2 div.sk-parallel-item:only-child::after {width: 0;}#sk-container-id-2 div.sk-dashed-wrapped {border: 1px dashed gray;margin: 0 0.4em 0.5em 0.4em;box-sizing: border-box;padding-bottom: 0.4em;background-color: white;}#sk-container-id-2 div.sk-label label {font-family: monospace;font-weight: bold;display: inline-block;line-height: 1.2em;}#sk-container-id-2 div.sk-label-container {text-align: center;}#sk-container-id-2 div.sk-container {/* jupyter's `normalize.less` sets `[hidden] { display: none; }` but bootstrap.min.css set `[hidden] { display: none !important; }` so we also need the `!important` here to be able to override the default hidden behavior on the sphinx rendered scikit-learn.org. See: https://github.com/scikit-learn/scikit-learn/issues/21755 */display: inline-block !important;position: relative;}#sk-container-id-2 div.sk-text-repr-fallback {display: none;}</style><div id=\"sk-container-id-2\" class=\"sk-top-container\"><div class=\"sk-text-repr-fallback\"><pre>DecisionTreeClassifier(criterion=&#x27;entropy&#x27;, max_depth=4)</pre><b>In a Jupyter environment, please rerun this cell to show the HTML representation or trust the notebook. <br />On GitHub, the HTML representation is unable to render, please try loading this page with nbviewer.org.</b></div><div class=\"sk-container\" hidden><div class=\"sk-item\"><div class=\"sk-estimator sk-toggleable\"><input class=\"sk-toggleable__control sk-hidden--visually\" id=\"sk-estimator-id-2\" type=\"checkbox\" checked><label for=\"sk-estimator-id-2\" class=\"sk-toggleable__label sk-toggleable__label-arrow\">DecisionTreeClassifier</label><div class=\"sk-toggleable__content\"><pre>DecisionTreeClassifier(criterion=&#x27;entropy&#x27;, max_depth=4)</pre></div></div></div></div></div>"
      ],
      "text/plain": [
       "DecisionTreeClassifier(criterion='entropy', max_depth=4)"
      ]
     },
     "execution_count": 12,
     "metadata": {},
     "output_type": "execute_result"
    }
   ],
   "source": [
    "from sklearn.tree import DecisionTreeClassifier\n",
    "classifier = DecisionTreeClassifier(criterion = 'entropy', max_depth=4)\n",
    "classifier.fit(X_sTrain, Y_Train)"
   ]
  },
  {
   "cell_type": "code",
   "execution_count": 13,
   "id": "ddd773df-dfc6-47ec-8529-a54f0e73f3a8",
   "metadata": {
    "tags": []
   },
   "outputs": [
    {
     "data": {
      "text/plain": [
       "array([1, 1, 0, ..., 1, 1, 0])"
      ]
     },
     "execution_count": 13,
     "metadata": {},
     "output_type": "execute_result"
    }
   ],
   "source": [
    "Y_Pred = classifier.predict(X_sTest)\n",
    "Y_Pred"
   ]
  },
  {
   "cell_type": "code",
   "execution_count": 14,
   "id": "dc5198a3-5b96-4da7-8bc2-c02728b71207",
   "metadata": {
    "tags": []
   },
   "outputs": [
    {
     "name": "stdout",
     "output_type": "stream",
     "text": [
      "Criterion entropy accuracy score = 0.702\n"
     ]
    }
   ],
   "source": [
    "print('Criterion entropy accuracy score = {0:0.3f}'.format(metrics.accuracy_score(Y_Test, Y_Pred)) )"
   ]
  },
  {
   "cell_type": "code",
   "execution_count": 15,
   "id": "12f7f4e2-f22e-4c2c-87ce-8f3f571cb7a9",
   "metadata": {
    "tags": []
   },
   "outputs": [
    {
     "name": "stdout",
     "output_type": "stream",
     "text": [
      "Criterion entropy accuracy score = 0.703\n"
     ]
    }
   ],
   "source": [
    "Y_pred_train = classifier.predict(X_sTrain)\n",
    "print('Criterion entropy accuracy score = {0:0.3f}'.format(metrics.accuracy_score(Y_Train, Y_pred_train)) )"
   ]
  },
  {
   "cell_type": "code",
   "execution_count": 16,
   "id": "ee5bf26d-70f2-4912-ae87-494b8640b8da",
   "metadata": {
    "tags": []
   },
   "outputs": [
    {
     "name": "stdout",
     "output_type": "stream",
     "text": [
      "              precision    recall  f1-score   support\n",
      "\n",
      "           0       0.76      0.62      0.68      2576\n",
      "           1       0.66      0.79      0.72      2424\n",
      "\n",
      "    accuracy                           0.70      5000\n",
      "   macro avg       0.71      0.70      0.70      5000\n",
      "weighted avg       0.71      0.70      0.70      5000\n",
      "\n"
     ]
    }
   ],
   "source": [
    "from sklearn.metrics import classification_report\n",
    "\n",
    "print(classification_report(Y_Test, Y_Pred))"
   ]
  },
  {
   "cell_type": "code",
   "execution_count": 17,
   "id": "1c514283-b415-4011-99f7-e2a8e482d017",
   "metadata": {
    "tags": []
   },
   "outputs": [
    {
     "data": {
      "text/html": [
       "<style>#sk-container-id-3 {color: black;}#sk-container-id-3 pre{padding: 0;}#sk-container-id-3 div.sk-toggleable {background-color: white;}#sk-container-id-3 label.sk-toggleable__label {cursor: pointer;display: block;width: 100%;margin-bottom: 0;padding: 0.3em;box-sizing: border-box;text-align: center;}#sk-container-id-3 label.sk-toggleable__label-arrow:before {content: \"▸\";float: left;margin-right: 0.25em;color: #696969;}#sk-container-id-3 label.sk-toggleable__label-arrow:hover:before {color: black;}#sk-container-id-3 div.sk-estimator:hover label.sk-toggleable__label-arrow:before {color: black;}#sk-container-id-3 div.sk-toggleable__content {max-height: 0;max-width: 0;overflow: hidden;text-align: left;background-color: #f0f8ff;}#sk-container-id-3 div.sk-toggleable__content pre {margin: 0.2em;color: black;border-radius: 0.25em;background-color: #f0f8ff;}#sk-container-id-3 input.sk-toggleable__control:checked~div.sk-toggleable__content {max-height: 200px;max-width: 100%;overflow: auto;}#sk-container-id-3 input.sk-toggleable__control:checked~label.sk-toggleable__label-arrow:before {content: \"▾\";}#sk-container-id-3 div.sk-estimator input.sk-toggleable__control:checked~label.sk-toggleable__label {background-color: #d4ebff;}#sk-container-id-3 div.sk-label input.sk-toggleable__control:checked~label.sk-toggleable__label {background-color: #d4ebff;}#sk-container-id-3 input.sk-hidden--visually {border: 0;clip: rect(1px 1px 1px 1px);clip: rect(1px, 1px, 1px, 1px);height: 1px;margin: -1px;overflow: hidden;padding: 0;position: absolute;width: 1px;}#sk-container-id-3 div.sk-estimator {font-family: monospace;background-color: #f0f8ff;border: 1px dotted black;border-radius: 0.25em;box-sizing: border-box;margin-bottom: 0.5em;}#sk-container-id-3 div.sk-estimator:hover {background-color: #d4ebff;}#sk-container-id-3 div.sk-parallel-item::after {content: \"\";width: 100%;border-bottom: 1px solid gray;flex-grow: 1;}#sk-container-id-3 div.sk-label:hover label.sk-toggleable__label {background-color: #d4ebff;}#sk-container-id-3 div.sk-serial::before {content: \"\";position: absolute;border-left: 1px solid gray;box-sizing: border-box;top: 0;bottom: 0;left: 50%;z-index: 0;}#sk-container-id-3 div.sk-serial {display: flex;flex-direction: column;align-items: center;background-color: white;padding-right: 0.2em;padding-left: 0.2em;position: relative;}#sk-container-id-3 div.sk-item {position: relative;z-index: 1;}#sk-container-id-3 div.sk-parallel {display: flex;align-items: stretch;justify-content: center;background-color: white;position: relative;}#sk-container-id-3 div.sk-item::before, #sk-container-id-3 div.sk-parallel-item::before {content: \"\";position: absolute;border-left: 1px solid gray;box-sizing: border-box;top: 0;bottom: 0;left: 50%;z-index: -1;}#sk-container-id-3 div.sk-parallel-item {display: flex;flex-direction: column;z-index: 1;position: relative;background-color: white;}#sk-container-id-3 div.sk-parallel-item:first-child::after {align-self: flex-end;width: 50%;}#sk-container-id-3 div.sk-parallel-item:last-child::after {align-self: flex-start;width: 50%;}#sk-container-id-3 div.sk-parallel-item:only-child::after {width: 0;}#sk-container-id-3 div.sk-dashed-wrapped {border: 1px dashed gray;margin: 0 0.4em 0.5em 0.4em;box-sizing: border-box;padding-bottom: 0.4em;background-color: white;}#sk-container-id-3 div.sk-label label {font-family: monospace;font-weight: bold;display: inline-block;line-height: 1.2em;}#sk-container-id-3 div.sk-label-container {text-align: center;}#sk-container-id-3 div.sk-container {/* jupyter's `normalize.less` sets `[hidden] { display: none; }` but bootstrap.min.css set `[hidden] { display: none !important; }` so we also need the `!important` here to be able to override the default hidden behavior on the sphinx rendered scikit-learn.org. See: https://github.com/scikit-learn/scikit-learn/issues/21755 */display: inline-block !important;position: relative;}#sk-container-id-3 div.sk-text-repr-fallback {display: none;}</style><div id=\"sk-container-id-3\" class=\"sk-top-container\"><div class=\"sk-text-repr-fallback\"><pre>KNeighborsClassifier(n_neighbors=100)</pre><b>In a Jupyter environment, please rerun this cell to show the HTML representation or trust the notebook. <br />On GitHub, the HTML representation is unable to render, please try loading this page with nbviewer.org.</b></div><div class=\"sk-container\" hidden><div class=\"sk-item\"><div class=\"sk-estimator sk-toggleable\"><input class=\"sk-toggleable__control sk-hidden--visually\" id=\"sk-estimator-id-3\" type=\"checkbox\" checked><label for=\"sk-estimator-id-3\" class=\"sk-toggleable__label sk-toggleable__label-arrow\">KNeighborsClassifier</label><div class=\"sk-toggleable__content\"><pre>KNeighborsClassifier(n_neighbors=100)</pre></div></div></div></div></div>"
      ],
      "text/plain": [
       "KNeighborsClassifier(n_neighbors=100)"
      ]
     },
     "execution_count": 17,
     "metadata": {},
     "output_type": "execute_result"
    }
   ],
   "source": [
    "from sklearn.neighbors import KNeighborsClassifier\n",
    "knnclassifier = KNeighborsClassifier(n_neighbors = 100)\n",
    "knnclassifier.fit(X_sTrain, Y_Train)"
   ]
  },
  {
   "cell_type": "code",
   "execution_count": 18,
   "id": "f5d42762-7efc-4b73-9e68-9f05974590e5",
   "metadata": {
    "tags": []
   },
   "outputs": [
    {
     "name": "stdout",
     "output_type": "stream",
     "text": [
      "KNN accuracy score = 0.684\n"
     ]
    }
   ],
   "source": [
    "Y_knn_pred = knnclassifier.predict(X_sTest)\n",
    "print('KNN accuracy score = {0:0.3f}'.format(metrics.accuracy_score(Y_Test, Y_knn_pred)))"
   ]
  },
  {
   "cell_type": "code",
   "execution_count": 19,
   "id": "4b13bb9e-0db6-4cdf-b9ba-fda6eebd1ba7",
   "metadata": {
    "tags": []
   },
   "outputs": [
    {
     "name": "stdout",
     "output_type": "stream",
     "text": [
      "KNN accuracy score = 0.679\n"
     ]
    }
   ],
   "source": [
    "Y_knn_pred_strain = knnclassifier.predict(X_sTrain)\n",
    "print('KNN accuracy score = {0:0.3f}'.format(metrics.accuracy_score(Y_Train, Y_knn_pred_strain)))"
   ]
  },
  {
   "cell_type": "code",
   "execution_count": 20,
   "id": "ca1e4c2a-9594-4e1b-b90f-73dec1d856dd",
   "metadata": {
    "tags": []
   },
   "outputs": [
    {
     "data": {
      "text/plain": [
       "'text_representation = tree.export_text(classifier)\\nprint(text_representation)'"
      ]
     },
     "execution_count": 20,
     "metadata": {},
     "output_type": "execute_result"
    }
   ],
   "source": [
    "from sklearn import tree\n",
    "'''text_representation = tree.export_text(classifier)\n",
    "print(text_representation)'''"
   ]
  },
  {
   "cell_type": "code",
   "execution_count": 21,
   "id": "a9ac9acb-312b-4371-98a8-d48256a8c701",
   "metadata": {
    "tags": []
   },
   "outputs": [
    {
     "data": {
      "image/svg+xml": [
       "<?xml version=\"1.0\" encoding=\"UTF-8\" standalone=\"no\"?>\n",
       "<!DOCTYPE svg PUBLIC \"-//W3C//DTD SVG 1.1//EN\"\n",
       " \"http://www.w3.org/Graphics/SVG/1.1/DTD/svg11.dtd\">\n",
       "<!-- Generated by graphviz version 2.50.0 (0)\n",
       " -->\n",
       "<!-- Title: Tree Pages: 1 -->\n",
       "<svg width=\"2236pt\" height=\"552pt\"\n",
       " viewBox=\"0.00 0.00 2236.00 552.00\" xmlns=\"http://www.w3.org/2000/svg\" xmlns:xlink=\"http://www.w3.org/1999/xlink\">\n",
       "<g id=\"graph0\" class=\"graph\" transform=\"scale(1 1) rotate(0) translate(4 548)\">\n",
       "<title>Tree</title>\n",
       "<polygon fill=\"white\" stroke=\"transparent\" points=\"-4,4 -4,-548 2232,-548 2232,4 -4,4\"/>\n",
       "<!-- 0 -->\n",
       "<g id=\"node1\" class=\"node\">\n",
       "<title>0</title>\n",
       "<polygon fill=\"#fffdfb\" stroke=\"black\" points=\"1168.5,-544 1028.5,-544 1028.5,-461 1168.5,-461 1168.5,-544\"/>\n",
       "<text text-anchor=\"middle\" x=\"1098.5\" y=\"-528.8\" font-family=\"Helvetica,sans-Serif\" font-size=\"14.00\">HOUSE &lt;= 0.439</text>\n",
       "<text text-anchor=\"middle\" x=\"1098.5\" y=\"-513.8\" font-family=\"Helvetica,sans-Serif\" font-size=\"14.00\">entropy = 1.0</text>\n",
       "<text text-anchor=\"middle\" x=\"1098.5\" y=\"-498.8\" font-family=\"Helvetica,sans-Serif\" font-size=\"14.00\">samples = 15000</text>\n",
       "<text text-anchor=\"middle\" x=\"1098.5\" y=\"-483.8\" font-family=\"Helvetica,sans-Serif\" font-size=\"14.00\">value = [7572, 7428]</text>\n",
       "<text text-anchor=\"middle\" x=\"1098.5\" y=\"-468.8\" font-family=\"Helvetica,sans-Serif\" font-size=\"14.00\">class = LEAVE</text>\n",
       "</g>\n",
       "<!-- 1 -->\n",
       "<g id=\"node2\" class=\"node\">\n",
       "<title>1</title>\n",
       "<polygon fill=\"#c7e3f8\" stroke=\"black\" points=\"936,-425 793,-425 793,-342 936,-342 936,-425\"/>\n",
       "<text text-anchor=\"middle\" x=\"864.5\" y=\"-409.8\" font-family=\"Helvetica,sans-Serif\" font-size=\"14.00\">OVERAGE &lt;= 0.137</text>\n",
       "<text text-anchor=\"middle\" x=\"864.5\" y=\"-394.8\" font-family=\"Helvetica,sans-Serif\" font-size=\"14.00\">entropy = 0.98</text>\n",
       "<text text-anchor=\"middle\" x=\"864.5\" y=\"-379.8\" font-family=\"Helvetica,sans-Serif\" font-size=\"14.00\">samples = 9991</text>\n",
       "<text text-anchor=\"middle\" x=\"864.5\" y=\"-364.8\" font-family=\"Helvetica,sans-Serif\" font-size=\"14.00\">value = [4175, 5816]</text>\n",
       "<text text-anchor=\"middle\" x=\"864.5\" y=\"-349.8\" font-family=\"Helvetica,sans-Serif\" font-size=\"14.00\">class = STAY</text>\n",
       "</g>\n",
       "<!-- 0&#45;&gt;1 -->\n",
       "<g id=\"edge1\" class=\"edge\">\n",
       "<title>0&#45;&gt;1</title>\n",
       "<path fill=\"none\" stroke=\"black\" d=\"M1028.29,-466.4C1002.17,-453.33 972.32,-438.41 945.32,-424.91\"/>\n",
       "<polygon fill=\"black\" stroke=\"black\" points=\"946.79,-421.73 936.28,-420.39 943.66,-427.99 946.79,-421.73\"/>\n",
       "<text text-anchor=\"middle\" x=\"944.18\" y=\"-440.41\" font-family=\"Helvetica,sans-Serif\" font-size=\"14.00\">True</text>\n",
       "</g>\n",
       "<!-- 16 -->\n",
       "<g id=\"node17\" class=\"node\">\n",
       "<title>16</title>\n",
       "<polygon fill=\"#f1bd97\" stroke=\"black\" points=\"1448.5,-425 1308.5,-425 1308.5,-342 1448.5,-342 1448.5,-425\"/>\n",
       "<text text-anchor=\"middle\" x=\"1378.5\" y=\"-409.8\" font-family=\"Helvetica,sans-Serif\" font-size=\"14.00\">INCOME &lt;= 0.479</text>\n",
       "<text text-anchor=\"middle\" x=\"1378.5\" y=\"-394.8\" font-family=\"Helvetica,sans-Serif\" font-size=\"14.00\">entropy = 0.906</text>\n",
       "<text text-anchor=\"middle\" x=\"1378.5\" y=\"-379.8\" font-family=\"Helvetica,sans-Serif\" font-size=\"14.00\">samples = 5009</text>\n",
       "<text text-anchor=\"middle\" x=\"1378.5\" y=\"-364.8\" font-family=\"Helvetica,sans-Serif\" font-size=\"14.00\">value = [3397, 1612]</text>\n",
       "<text text-anchor=\"middle\" x=\"1378.5\" y=\"-349.8\" font-family=\"Helvetica,sans-Serif\" font-size=\"14.00\">class = LEAVE</text>\n",
       "</g>\n",
       "<!-- 0&#45;&gt;16 -->\n",
       "<g id=\"edge16\" class=\"edge\">\n",
       "<title>0&#45;&gt;16</title>\n",
       "<path fill=\"none\" stroke=\"black\" d=\"M1168.79,-472.13C1208.32,-455.61 1257.8,-434.94 1298.77,-417.82\"/>\n",
       "<polygon fill=\"black\" stroke=\"black\" points=\"1300.3,-420.97 1308.18,-413.89 1297.6,-414.51 1300.3,-420.97\"/>\n",
       "<text text-anchor=\"middle\" x=\"1298.68\" y=\"-433.31\" font-family=\"Helvetica,sans-Serif\" font-size=\"14.00\">False</text>\n",
       "</g>\n",
       "<!-- 2 -->\n",
       "<g id=\"node3\" class=\"node\">\n",
       "<title>2</title>\n",
       "<polygon fill=\"#fdf4ee\" stroke=\"black\" points=\"528.5,-306 382.5,-306 382.5,-223 528.5,-223 528.5,-306\"/>\n",
       "<text text-anchor=\"middle\" x=\"455.5\" y=\"-290.8\" font-family=\"Helvetica,sans-Serif\" font-size=\"14.00\">LEFTOVER &lt;= 0.025</text>\n",
       "<text text-anchor=\"middle\" x=\"455.5\" y=\"-275.8\" font-family=\"Helvetica,sans-Serif\" font-size=\"14.00\">entropy = 0.999</text>\n",
       "<text text-anchor=\"middle\" x=\"455.5\" y=\"-260.8\" font-family=\"Helvetica,sans-Serif\" font-size=\"14.00\">samples = 6690</text>\n",
       "<text text-anchor=\"middle\" x=\"455.5\" y=\"-245.8\" font-family=\"Helvetica,sans-Serif\" font-size=\"14.00\">value = [3495, 3195]</text>\n",
       "<text text-anchor=\"middle\" x=\"455.5\" y=\"-230.8\" font-family=\"Helvetica,sans-Serif\" font-size=\"14.00\">class = LEAVE</text>\n",
       "</g>\n",
       "<!-- 1&#45;&gt;2 -->\n",
       "<g id=\"edge2\" class=\"edge\">\n",
       "<title>1&#45;&gt;2</title>\n",
       "<path fill=\"none\" stroke=\"black\" d=\"M792.79,-361.99C721.75,-341.66 613.05,-310.57 538.36,-289.2\"/>\n",
       "<polygon fill=\"black\" stroke=\"black\" points=\"539.08,-285.77 528.51,-286.38 537.16,-292.5 539.08,-285.77\"/>\n",
       "</g>\n",
       "<!-- 9 -->\n",
       "<g id=\"node10\" class=\"node\">\n",
       "<title>9</title>\n",
       "<polygon fill=\"#6cb6ec\" stroke=\"black\" points=\"930.5,-306 798.5,-306 798.5,-223 930.5,-223 930.5,-306\"/>\n",
       "<text text-anchor=\"middle\" x=\"864.5\" y=\"-290.8\" font-family=\"Helvetica,sans-Serif\" font-size=\"14.00\">INCOME &lt;= &#45;0.85</text>\n",
       "<text text-anchor=\"middle\" x=\"864.5\" y=\"-275.8\" font-family=\"Helvetica,sans-Serif\" font-size=\"14.00\">entropy = 0.734</text>\n",
       "<text text-anchor=\"middle\" x=\"864.5\" y=\"-260.8\" font-family=\"Helvetica,sans-Serif\" font-size=\"14.00\">samples = 3301</text>\n",
       "<text text-anchor=\"middle\" x=\"864.5\" y=\"-245.8\" font-family=\"Helvetica,sans-Serif\" font-size=\"14.00\">value = [680, 2621]</text>\n",
       "<text text-anchor=\"middle\" x=\"864.5\" y=\"-230.8\" font-family=\"Helvetica,sans-Serif\" font-size=\"14.00\">class = STAY</text>\n",
       "</g>\n",
       "<!-- 1&#45;&gt;9 -->\n",
       "<g id=\"edge9\" class=\"edge\">\n",
       "<title>1&#45;&gt;9</title>\n",
       "<path fill=\"none\" stroke=\"black\" d=\"M864.5,-341.91C864.5,-333.65 864.5,-324.86 864.5,-316.3\"/>\n",
       "<polygon fill=\"black\" stroke=\"black\" points=\"868,-316.02 864.5,-306.02 861,-316.02 868,-316.02\"/>\n",
       "</g>\n",
       "<!-- 3 -->\n",
       "<g id=\"node4\" class=\"node\">\n",
       "<title>3</title>\n",
       "<polygon fill=\"#f7d8c1\" stroke=\"black\" points=\"299,-187 148,-187 148,-104 299,-104 299,-187\"/>\n",
       "<text text-anchor=\"middle\" x=\"223.5\" y=\"-171.8\" font-family=\"Helvetica,sans-Serif\" font-size=\"14.00\">LEFTOVER &lt;= &#45;0.796</text>\n",
       "<text text-anchor=\"middle\" x=\"223.5\" y=\"-156.8\" font-family=\"Helvetica,sans-Serif\" font-size=\"14.00\">entropy = 0.975</text>\n",
       "<text text-anchor=\"middle\" x=\"223.5\" y=\"-141.8\" font-family=\"Helvetica,sans-Serif\" font-size=\"14.00\">samples = 4481</text>\n",
       "<text text-anchor=\"middle\" x=\"223.5\" y=\"-126.8\" font-family=\"Helvetica,sans-Serif\" font-size=\"14.00\">value = [2654, 1827]</text>\n",
       "<text text-anchor=\"middle\" x=\"223.5\" y=\"-111.8\" font-family=\"Helvetica,sans-Serif\" font-size=\"14.00\">class = LEAVE</text>\n",
       "</g>\n",
       "<!-- 2&#45;&gt;3 -->\n",
       "<g id=\"edge3\" class=\"edge\">\n",
       "<title>2&#45;&gt;3</title>\n",
       "<path fill=\"none\" stroke=\"black\" d=\"M382.41,-226.64C358.86,-214.76 332.55,-201.5 308.23,-189.23\"/>\n",
       "<polygon fill=\"black\" stroke=\"black\" points=\"309.52,-185.96 299.02,-184.59 306.37,-192.21 309.52,-185.96\"/>\n",
       "</g>\n",
       "<!-- 6 -->\n",
       "<g id=\"node7\" class=\"node\">\n",
       "<title>6</title>\n",
       "<polygon fill=\"#b3d9f5\" stroke=\"black\" points=\"528.5,-187 382.5,-187 382.5,-104 528.5,-104 528.5,-187\"/>\n",
       "<text text-anchor=\"middle\" x=\"455.5\" y=\"-171.8\" font-family=\"Helvetica,sans-Serif\" font-size=\"14.00\">LEFTOVER &lt;= 2.188</text>\n",
       "<text text-anchor=\"middle\" x=\"455.5\" y=\"-156.8\" font-family=\"Helvetica,sans-Serif\" font-size=\"14.00\">entropy = 0.959</text>\n",
       "<text text-anchor=\"middle\" x=\"455.5\" y=\"-141.8\" font-family=\"Helvetica,sans-Serif\" font-size=\"14.00\">samples = 2209</text>\n",
       "<text text-anchor=\"middle\" x=\"455.5\" y=\"-126.8\" font-family=\"Helvetica,sans-Serif\" font-size=\"14.00\">value = [841, 1368]</text>\n",
       "<text text-anchor=\"middle\" x=\"455.5\" y=\"-111.8\" font-family=\"Helvetica,sans-Serif\" font-size=\"14.00\">class = STAY</text>\n",
       "</g>\n",
       "<!-- 2&#45;&gt;6 -->\n",
       "<g id=\"edge6\" class=\"edge\">\n",
       "<title>2&#45;&gt;6</title>\n",
       "<path fill=\"none\" stroke=\"black\" d=\"M455.5,-222.91C455.5,-214.65 455.5,-205.86 455.5,-197.3\"/>\n",
       "<polygon fill=\"black\" stroke=\"black\" points=\"459,-197.02 455.5,-187.02 452,-197.02 459,-197.02\"/>\n",
       "</g>\n",
       "<!-- 4 -->\n",
       "<g id=\"node5\" class=\"node\">\n",
       "<title>4</title>\n",
       "<polygon fill=\"#ecf6fc\" stroke=\"black\" points=\"139,-68 0,-68 0,0 139,0 139,-68\"/>\n",
       "<text text-anchor=\"middle\" x=\"69.5\" y=\"-52.8\" font-family=\"Helvetica,sans-Serif\" font-size=\"14.00\">entropy = 0.998</text>\n",
       "<text text-anchor=\"middle\" x=\"69.5\" y=\"-37.8\" font-family=\"Helvetica,sans-Serif\" font-size=\"14.00\">samples = 2248</text>\n",
       "<text text-anchor=\"middle\" x=\"69.5\" y=\"-22.8\" font-family=\"Helvetica,sans-Serif\" font-size=\"14.00\">value = [1067, 1181]</text>\n",
       "<text text-anchor=\"middle\" x=\"69.5\" y=\"-7.8\" font-family=\"Helvetica,sans-Serif\" font-size=\"14.00\">class = STAY</text>\n",
       "</g>\n",
       "<!-- 3&#45;&gt;4 -->\n",
       "<g id=\"edge4\" class=\"edge\">\n",
       "<title>3&#45;&gt;4</title>\n",
       "<path fill=\"none\" stroke=\"black\" d=\"M166.16,-103.73C152.56,-94.06 138.09,-83.77 124.59,-74.17\"/>\n",
       "<polygon fill=\"black\" stroke=\"black\" points=\"126.51,-71.24 116.33,-68.3 122.45,-76.95 126.51,-71.24\"/>\n",
       "</g>\n",
       "<!-- 5 -->\n",
       "<g id=\"node6\" class=\"node\">\n",
       "<title>5</title>\n",
       "<polygon fill=\"#f0b48a\" stroke=\"black\" points=\"289.5,-68 157.5,-68 157.5,0 289.5,0 289.5,-68\"/>\n",
       "<text text-anchor=\"middle\" x=\"223.5\" y=\"-52.8\" font-family=\"Helvetica,sans-Serif\" font-size=\"14.00\">entropy = 0.868</text>\n",
       "<text text-anchor=\"middle\" x=\"223.5\" y=\"-37.8\" font-family=\"Helvetica,sans-Serif\" font-size=\"14.00\">samples = 2233</text>\n",
       "<text text-anchor=\"middle\" x=\"223.5\" y=\"-22.8\" font-family=\"Helvetica,sans-Serif\" font-size=\"14.00\">value = [1587, 646]</text>\n",
       "<text text-anchor=\"middle\" x=\"223.5\" y=\"-7.8\" font-family=\"Helvetica,sans-Serif\" font-size=\"14.00\">class = LEAVE</text>\n",
       "</g>\n",
       "<!-- 3&#45;&gt;5 -->\n",
       "<g id=\"edge5\" class=\"edge\">\n",
       "<title>3&#45;&gt;5</title>\n",
       "<path fill=\"none\" stroke=\"black\" d=\"M223.5,-103.73C223.5,-95.52 223.5,-86.86 223.5,-78.56\"/>\n",
       "<polygon fill=\"black\" stroke=\"black\" points=\"227,-78.3 223.5,-68.3 220,-78.3 227,-78.3\"/>\n",
       "</g>\n",
       "<!-- 7 -->\n",
       "<g id=\"node8\" class=\"node\">\n",
       "<title>7</title>\n",
       "<polygon fill=\"#add6f4\" stroke=\"black\" points=\"439.5,-68 307.5,-68 307.5,0 439.5,0 439.5,-68\"/>\n",
       "<text text-anchor=\"middle\" x=\"373.5\" y=\"-52.8\" font-family=\"Helvetica,sans-Serif\" font-size=\"14.00\">entropy = 0.95</text>\n",
       "<text text-anchor=\"middle\" x=\"373.5\" y=\"-37.8\" font-family=\"Helvetica,sans-Serif\" font-size=\"14.00\">samples = 1969</text>\n",
       "<text text-anchor=\"middle\" x=\"373.5\" y=\"-22.8\" font-family=\"Helvetica,sans-Serif\" font-size=\"14.00\">value = [728, 1241]</text>\n",
       "<text text-anchor=\"middle\" x=\"373.5\" y=\"-7.8\" font-family=\"Helvetica,sans-Serif\" font-size=\"14.00\">class = STAY</text>\n",
       "</g>\n",
       "<!-- 6&#45;&gt;7 -->\n",
       "<g id=\"edge7\" class=\"edge\">\n",
       "<title>6&#45;&gt;7</title>\n",
       "<path fill=\"none\" stroke=\"black\" d=\"M424.97,-103.73C418.27,-94.79 411.18,-85.32 404.47,-76.36\"/>\n",
       "<polygon fill=\"black\" stroke=\"black\" points=\"407.23,-74.21 398.44,-68.3 401.63,-78.4 407.23,-74.21\"/>\n",
       "</g>\n",
       "<!-- 8 -->\n",
       "<g id=\"node9\" class=\"node\">\n",
       "<title>8</title>\n",
       "<polygon fill=\"#e9f4fc\" stroke=\"black\" points=\"581.5,-68 457.5,-68 457.5,0 581.5,0 581.5,-68\"/>\n",
       "<text text-anchor=\"middle\" x=\"519.5\" y=\"-52.8\" font-family=\"Helvetica,sans-Serif\" font-size=\"14.00\">entropy = 0.998</text>\n",
       "<text text-anchor=\"middle\" x=\"519.5\" y=\"-37.8\" font-family=\"Helvetica,sans-Serif\" font-size=\"14.00\">samples = 240</text>\n",
       "<text text-anchor=\"middle\" x=\"519.5\" y=\"-22.8\" font-family=\"Helvetica,sans-Serif\" font-size=\"14.00\">value = [113, 127]</text>\n",
       "<text text-anchor=\"middle\" x=\"519.5\" y=\"-7.8\" font-family=\"Helvetica,sans-Serif\" font-size=\"14.00\">class = STAY</text>\n",
       "</g>\n",
       "<!-- 6&#45;&gt;8 -->\n",
       "<g id=\"edge8\" class=\"edge\">\n",
       "<title>6&#45;&gt;8</title>\n",
       "<path fill=\"none\" stroke=\"black\" d=\"M479.33,-103.73C484.4,-95.06 489.75,-85.9 494.85,-77.18\"/>\n",
       "<polygon fill=\"black\" stroke=\"black\" points=\"498.01,-78.7 500.04,-68.3 491.97,-75.17 498.01,-78.7\"/>\n",
       "</g>\n",
       "<!-- 10 -->\n",
       "<g id=\"node11\" class=\"node\">\n",
       "<title>10</title>\n",
       "<polygon fill=\"#77bced\" stroke=\"black\" points=\"855.5,-187 721.5,-187 721.5,-104 855.5,-104 855.5,-187\"/>\n",
       "<text text-anchor=\"middle\" x=\"788.5\" y=\"-171.8\" font-family=\"Helvetica,sans-Serif\" font-size=\"14.00\">INCOME &lt;= &#45;0.857</text>\n",
       "<text text-anchor=\"middle\" x=\"788.5\" y=\"-156.8\" font-family=\"Helvetica,sans-Serif\" font-size=\"14.00\">entropy = 0.792</text>\n",
       "<text text-anchor=\"middle\" x=\"788.5\" y=\"-141.8\" font-family=\"Helvetica,sans-Serif\" font-size=\"14.00\">samples = 923</text>\n",
       "<text text-anchor=\"middle\" x=\"788.5\" y=\"-126.8\" font-family=\"Helvetica,sans-Serif\" font-size=\"14.00\">value = [220, 703]</text>\n",
       "<text text-anchor=\"middle\" x=\"788.5\" y=\"-111.8\" font-family=\"Helvetica,sans-Serif\" font-size=\"14.00\">class = STAY</text>\n",
       "</g>\n",
       "<!-- 9&#45;&gt;10 -->\n",
       "<g id=\"edge10\" class=\"edge\">\n",
       "<title>9&#45;&gt;10</title>\n",
       "<path fill=\"none\" stroke=\"black\" d=\"M838.13,-222.91C832.41,-214.1 826.31,-204.7 820.4,-195.61\"/>\n",
       "<polygon fill=\"black\" stroke=\"black\" points=\"823.2,-193.5 814.82,-187.02 817.33,-197.31 823.2,-193.5\"/>\n",
       "</g>\n",
       "<!-- 13 -->\n",
       "<g id=\"node14\" class=\"node\">\n",
       "<title>13</title>\n",
       "<polygon fill=\"#68b5eb\" stroke=\"black\" points=\"1007.5,-187 873.5,-187 873.5,-104 1007.5,-104 1007.5,-187\"/>\n",
       "<text text-anchor=\"middle\" x=\"940.5\" y=\"-171.8\" font-family=\"Helvetica,sans-Serif\" font-size=\"14.00\">INCOME &lt;= &#45;0.685</text>\n",
       "<text text-anchor=\"middle\" x=\"940.5\" y=\"-156.8\" font-family=\"Helvetica,sans-Serif\" font-size=\"14.00\">entropy = 0.709</text>\n",
       "<text text-anchor=\"middle\" x=\"940.5\" y=\"-141.8\" font-family=\"Helvetica,sans-Serif\" font-size=\"14.00\">samples = 2378</text>\n",
       "<text text-anchor=\"middle\" x=\"940.5\" y=\"-126.8\" font-family=\"Helvetica,sans-Serif\" font-size=\"14.00\">value = [460, 1918]</text>\n",
       "<text text-anchor=\"middle\" x=\"940.5\" y=\"-111.8\" font-family=\"Helvetica,sans-Serif\" font-size=\"14.00\">class = STAY</text>\n",
       "</g>\n",
       "<!-- 9&#45;&gt;13 -->\n",
       "<g id=\"edge13\" class=\"edge\">\n",
       "<title>9&#45;&gt;13</title>\n",
       "<path fill=\"none\" stroke=\"black\" d=\"M890.87,-222.91C896.59,-214.1 902.69,-204.7 908.6,-195.61\"/>\n",
       "<polygon fill=\"black\" stroke=\"black\" points=\"911.67,-197.31 914.18,-187.02 905.8,-193.5 911.67,-197.31\"/>\n",
       "</g>\n",
       "<!-- 11 -->\n",
       "<g id=\"node12\" class=\"node\">\n",
       "<title>11</title>\n",
       "<polygon fill=\"#75bbed\" stroke=\"black\" points=\"725,-68 600,-68 600,0 725,0 725,-68\"/>\n",
       "<text text-anchor=\"middle\" x=\"662.5\" y=\"-52.8\" font-family=\"Helvetica,sans-Serif\" font-size=\"14.00\">entropy = 0.784</text>\n",
       "<text text-anchor=\"middle\" x=\"662.5\" y=\"-37.8\" font-family=\"Helvetica,sans-Serif\" font-size=\"14.00\">samples = 913</text>\n",
       "<text text-anchor=\"middle\" x=\"662.5\" y=\"-22.8\" font-family=\"Helvetica,sans-Serif\" font-size=\"14.00\">value = [213, 700]</text>\n",
       "<text text-anchor=\"middle\" x=\"662.5\" y=\"-7.8\" font-family=\"Helvetica,sans-Serif\" font-size=\"14.00\">class = STAY</text>\n",
       "</g>\n",
       "<!-- 10&#45;&gt;11 -->\n",
       "<g id=\"edge11\" class=\"edge\">\n",
       "<title>10&#45;&gt;11</title>\n",
       "<path fill=\"none\" stroke=\"black\" d=\"M741.58,-103.73C730.77,-94.33 719.29,-84.35 708.51,-74.99\"/>\n",
       "<polygon fill=\"black\" stroke=\"black\" points=\"710.66,-72.22 700.82,-68.3 706.07,-77.5 710.66,-72.22\"/>\n",
       "</g>\n",
       "<!-- 12 -->\n",
       "<g id=\"node13\" class=\"node\">\n",
       "<title>12</title>\n",
       "<polygon fill=\"#f0b78e\" stroke=\"black\" points=\"854,-68 743,-68 743,0 854,0 854,-68\"/>\n",
       "<text text-anchor=\"middle\" x=\"798.5\" y=\"-52.8\" font-family=\"Helvetica,sans-Serif\" font-size=\"14.00\">entropy = 0.881</text>\n",
       "<text text-anchor=\"middle\" x=\"798.5\" y=\"-37.8\" font-family=\"Helvetica,sans-Serif\" font-size=\"14.00\">samples = 10</text>\n",
       "<text text-anchor=\"middle\" x=\"798.5\" y=\"-22.8\" font-family=\"Helvetica,sans-Serif\" font-size=\"14.00\">value = [7, 3]</text>\n",
       "<text text-anchor=\"middle\" x=\"798.5\" y=\"-7.8\" font-family=\"Helvetica,sans-Serif\" font-size=\"14.00\">class = LEAVE</text>\n",
       "</g>\n",
       "<!-- 10&#45;&gt;12 -->\n",
       "<g id=\"edge12\" class=\"edge\">\n",
       "<title>10&#45;&gt;12</title>\n",
       "<path fill=\"none\" stroke=\"black\" d=\"M792.22,-103.73C792.98,-95.43 793.78,-86.67 794.55,-78.28\"/>\n",
       "<polygon fill=\"black\" stroke=\"black\" points=\"798.03,-78.58 795.46,-68.3 791.06,-77.94 798.03,-78.58\"/>\n",
       "</g>\n",
       "<!-- 14 -->\n",
       "<g id=\"node15\" class=\"node\">\n",
       "<title>14</title>\n",
       "<polygon fill=\"#53aae8\" stroke=\"black\" points=\"989,-68 872,-68 872,0 989,0 989,-68\"/>\n",
       "<text text-anchor=\"middle\" x=\"930.5\" y=\"-52.8\" font-family=\"Helvetica,sans-Serif\" font-size=\"14.00\">entropy = 0.515</text>\n",
       "<text text-anchor=\"middle\" x=\"930.5\" y=\"-37.8\" font-family=\"Helvetica,sans-Serif\" font-size=\"14.00\">samples = 217</text>\n",
       "<text text-anchor=\"middle\" x=\"930.5\" y=\"-22.8\" font-family=\"Helvetica,sans-Serif\" font-size=\"14.00\">value = [25, 192]</text>\n",
       "<text text-anchor=\"middle\" x=\"930.5\" y=\"-7.8\" font-family=\"Helvetica,sans-Serif\" font-size=\"14.00\">class = STAY</text>\n",
       "</g>\n",
       "<!-- 13&#45;&gt;14 -->\n",
       "<g id=\"edge14\" class=\"edge\">\n",
       "<title>13&#45;&gt;14</title>\n",
       "<path fill=\"none\" stroke=\"black\" d=\"M936.78,-103.73C936.02,-95.43 935.22,-86.67 934.45,-78.28\"/>\n",
       "<polygon fill=\"black\" stroke=\"black\" points=\"937.94,-77.94 933.54,-68.3 930.97,-78.58 937.94,-77.94\"/>\n",
       "</g>\n",
       "<!-- 15 -->\n",
       "<g id=\"node16\" class=\"node\">\n",
       "<title>15</title>\n",
       "<polygon fill=\"#6bb6ec\" stroke=\"black\" points=\"1139.5,-68 1007.5,-68 1007.5,0 1139.5,0 1139.5,-68\"/>\n",
       "<text text-anchor=\"middle\" x=\"1073.5\" y=\"-52.8\" font-family=\"Helvetica,sans-Serif\" font-size=\"14.00\">entropy = 0.725</text>\n",
       "<text text-anchor=\"middle\" x=\"1073.5\" y=\"-37.8\" font-family=\"Helvetica,sans-Serif\" font-size=\"14.00\">samples = 2161</text>\n",
       "<text text-anchor=\"middle\" x=\"1073.5\" y=\"-22.8\" font-family=\"Helvetica,sans-Serif\" font-size=\"14.00\">value = [435, 1726]</text>\n",
       "<text text-anchor=\"middle\" x=\"1073.5\" y=\"-7.8\" font-family=\"Helvetica,sans-Serif\" font-size=\"14.00\">class = STAY</text>\n",
       "</g>\n",
       "<!-- 13&#45;&gt;15 -->\n",
       "<g id=\"edge15\" class=\"edge\">\n",
       "<title>13&#45;&gt;15</title>\n",
       "<path fill=\"none\" stroke=\"black\" d=\"M990.02,-103.73C1001.55,-94.24 1013.8,-84.16 1025.26,-74.72\"/>\n",
       "<polygon fill=\"black\" stroke=\"black\" points=\"1027.56,-77.36 1033.05,-68.3 1023.11,-71.95 1027.56,-77.36\"/>\n",
       "</g>\n",
       "<!-- 17 -->\n",
       "<g id=\"node18\" class=\"node\">\n",
       "<title>17</title>\n",
       "<polygon fill=\"#eb9f68\" stroke=\"black\" points=\"1444.5,-306 1312.5,-306 1312.5,-223 1444.5,-223 1444.5,-306\"/>\n",
       "<text text-anchor=\"middle\" x=\"1378.5\" y=\"-290.8\" font-family=\"Helvetica,sans-Serif\" font-size=\"14.00\">INCOME &lt;= 0.372</text>\n",
       "<text text-anchor=\"middle\" x=\"1378.5\" y=\"-275.8\" font-family=\"Helvetica,sans-Serif\" font-size=\"14.00\">entropy = 0.709</text>\n",
       "<text text-anchor=\"middle\" x=\"1378.5\" y=\"-260.8\" font-family=\"Helvetica,sans-Serif\" font-size=\"14.00\">samples = 3360</text>\n",
       "<text text-anchor=\"middle\" x=\"1378.5\" y=\"-245.8\" font-family=\"Helvetica,sans-Serif\" font-size=\"14.00\">value = [2710, 650]</text>\n",
       "<text text-anchor=\"middle\" x=\"1378.5\" y=\"-230.8\" font-family=\"Helvetica,sans-Serif\" font-size=\"14.00\">class = LEAVE</text>\n",
       "</g>\n",
       "<!-- 16&#45;&gt;17 -->\n",
       "<g id=\"edge17\" class=\"edge\">\n",
       "<title>16&#45;&gt;17</title>\n",
       "<path fill=\"none\" stroke=\"black\" d=\"M1378.5,-341.91C1378.5,-333.65 1378.5,-324.86 1378.5,-316.3\"/>\n",
       "<polygon fill=\"black\" stroke=\"black\" points=\"1382,-316.02 1378.5,-306.02 1375,-316.02 1382,-316.02\"/>\n",
       "</g>\n",
       "<!-- 24 -->\n",
       "<g id=\"node25\" class=\"node\">\n",
       "<title>24</title>\n",
       "<polygon fill=\"#c6e3f8\" stroke=\"black\" points=\"1892,-306 1749,-306 1749,-223 1892,-223 1892,-306\"/>\n",
       "<text text-anchor=\"middle\" x=\"1820.5\" y=\"-290.8\" font-family=\"Helvetica,sans-Serif\" font-size=\"14.00\">OVERAGE &lt;= 0.679</text>\n",
       "<text text-anchor=\"middle\" x=\"1820.5\" y=\"-275.8\" font-family=\"Helvetica,sans-Serif\" font-size=\"14.00\">entropy = 0.98</text>\n",
       "<text text-anchor=\"middle\" x=\"1820.5\" y=\"-260.8\" font-family=\"Helvetica,sans-Serif\" font-size=\"14.00\">samples = 1649</text>\n",
       "<text text-anchor=\"middle\" x=\"1820.5\" y=\"-245.8\" font-family=\"Helvetica,sans-Serif\" font-size=\"14.00\">value = [687, 962]</text>\n",
       "<text text-anchor=\"middle\" x=\"1820.5\" y=\"-230.8\" font-family=\"Helvetica,sans-Serif\" font-size=\"14.00\">class = STAY</text>\n",
       "</g>\n",
       "<!-- 16&#45;&gt;24 -->\n",
       "<g id=\"edge24\" class=\"edge\">\n",
       "<title>16&#45;&gt;24</title>\n",
       "<path fill=\"none\" stroke=\"black\" d=\"M1448.54,-363.96C1527.56,-343.04 1655.92,-309.07 1739.28,-287\"/>\n",
       "<polygon fill=\"black\" stroke=\"black\" points=\"1740.19,-290.38 1748.96,-284.44 1738.4,-283.61 1740.19,-290.38\"/>\n",
       "</g>\n",
       "<!-- 18 -->\n",
       "<g id=\"node19\" class=\"node\">\n",
       "<title>18</title>\n",
       "<polygon fill=\"#eb9e67\" stroke=\"black\" points=\"1324.5,-187 1192.5,-187 1192.5,-104 1324.5,-104 1324.5,-187\"/>\n",
       "<text text-anchor=\"middle\" x=\"1258.5\" y=\"-171.8\" font-family=\"Helvetica,sans-Serif\" font-size=\"14.00\">INCOME &lt;= 0.358</text>\n",
       "<text text-anchor=\"middle\" x=\"1258.5\" y=\"-156.8\" font-family=\"Helvetica,sans-Serif\" font-size=\"14.00\">entropy = 0.701</text>\n",
       "<text text-anchor=\"middle\" x=\"1258.5\" y=\"-141.8\" font-family=\"Helvetica,sans-Serif\" font-size=\"14.00\">samples = 3227</text>\n",
       "<text text-anchor=\"middle\" x=\"1258.5\" y=\"-126.8\" font-family=\"Helvetica,sans-Serif\" font-size=\"14.00\">value = [2615, 612]</text>\n",
       "<text text-anchor=\"middle\" x=\"1258.5\" y=\"-111.8\" font-family=\"Helvetica,sans-Serif\" font-size=\"14.00\">class = LEAVE</text>\n",
       "</g>\n",
       "<!-- 17&#45;&gt;18 -->\n",
       "<g id=\"edge18\" class=\"edge\">\n",
       "<title>17&#45;&gt;18</title>\n",
       "<path fill=\"none\" stroke=\"black\" d=\"M1336.87,-222.91C1327.37,-213.65 1317.2,-203.73 1307.43,-194.21\"/>\n",
       "<polygon fill=\"black\" stroke=\"black\" points=\"1309.66,-191.5 1300.06,-187.02 1304.78,-196.51 1309.66,-191.5\"/>\n",
       "</g>\n",
       "<!-- 21 -->\n",
       "<g id=\"node22\" class=\"node\">\n",
       "<title>21</title>\n",
       "<polygon fill=\"#efb388\" stroke=\"black\" points=\"1656.5,-187 1342.5,-187 1342.5,-104 1656.5,-104 1656.5,-187\"/>\n",
       "<text text-anchor=\"middle\" x=\"1499.5\" y=\"-171.8\" font-family=\"Helvetica,sans-Serif\" font-size=\"14.00\">OVER_15MINS_CALLS_PER_MONTH &lt;= 1.856</text>\n",
       "<text text-anchor=\"middle\" x=\"1499.5\" y=\"-156.8\" font-family=\"Helvetica,sans-Serif\" font-size=\"14.00\">entropy = 0.863</text>\n",
       "<text text-anchor=\"middle\" x=\"1499.5\" y=\"-141.8\" font-family=\"Helvetica,sans-Serif\" font-size=\"14.00\">samples = 133</text>\n",
       "<text text-anchor=\"middle\" x=\"1499.5\" y=\"-126.8\" font-family=\"Helvetica,sans-Serif\" font-size=\"14.00\">value = [95, 38]</text>\n",
       "<text text-anchor=\"middle\" x=\"1499.5\" y=\"-111.8\" font-family=\"Helvetica,sans-Serif\" font-size=\"14.00\">class = LEAVE</text>\n",
       "</g>\n",
       "<!-- 17&#45;&gt;21 -->\n",
       "<g id=\"edge21\" class=\"edge\">\n",
       "<title>17&#45;&gt;21</title>\n",
       "<path fill=\"none\" stroke=\"black\" d=\"M1420.48,-222.91C1430.05,-213.65 1440.31,-203.73 1450.16,-194.21\"/>\n",
       "<polygon fill=\"black\" stroke=\"black\" points=\"1452.84,-196.49 1457.59,-187.02 1447.97,-191.46 1452.84,-196.49\"/>\n",
       "</g>\n",
       "<!-- 19 -->\n",
       "<g id=\"node20\" class=\"node\">\n",
       "<title>19</title>\n",
       "<polygon fill=\"#eb9f68\" stroke=\"black\" points=\"1289.5,-68 1157.5,-68 1157.5,0 1289.5,0 1289.5,-68\"/>\n",
       "<text text-anchor=\"middle\" x=\"1223.5\" y=\"-52.8\" font-family=\"Helvetica,sans-Serif\" font-size=\"14.00\">entropy = 0.703</text>\n",
       "<text text-anchor=\"middle\" x=\"1223.5\" y=\"-37.8\" font-family=\"Helvetica,sans-Serif\" font-size=\"14.00\">samples = 3208</text>\n",
       "<text text-anchor=\"middle\" x=\"1223.5\" y=\"-22.8\" font-family=\"Helvetica,sans-Serif\" font-size=\"14.00\">value = [2596, 612]</text>\n",
       "<text text-anchor=\"middle\" x=\"1223.5\" y=\"-7.8\" font-family=\"Helvetica,sans-Serif\" font-size=\"14.00\">class = LEAVE</text>\n",
       "</g>\n",
       "<!-- 18&#45;&gt;19 -->\n",
       "<g id=\"edge19\" class=\"edge\">\n",
       "<title>18&#45;&gt;19</title>\n",
       "<path fill=\"none\" stroke=\"black\" d=\"M1245.47,-103.73C1242.79,-95.34 1239.95,-86.47 1237.25,-78.01\"/>\n",
       "<polygon fill=\"black\" stroke=\"black\" points=\"1240.52,-76.76 1234.14,-68.3 1233.85,-78.89 1240.52,-76.76\"/>\n",
       "</g>\n",
       "<!-- 20 -->\n",
       "<g id=\"node21\" class=\"node\">\n",
       "<title>20</title>\n",
       "<polygon fill=\"#e58139\" stroke=\"black\" points=\"1413.5,-68 1307.5,-68 1307.5,0 1413.5,0 1413.5,-68\"/>\n",
       "<text text-anchor=\"middle\" x=\"1360.5\" y=\"-52.8\" font-family=\"Helvetica,sans-Serif\" font-size=\"14.00\">entropy = 0.0</text>\n",
       "<text text-anchor=\"middle\" x=\"1360.5\" y=\"-37.8\" font-family=\"Helvetica,sans-Serif\" font-size=\"14.00\">samples = 19</text>\n",
       "<text text-anchor=\"middle\" x=\"1360.5\" y=\"-22.8\" font-family=\"Helvetica,sans-Serif\" font-size=\"14.00\">value = [19, 0]</text>\n",
       "<text text-anchor=\"middle\" x=\"1360.5\" y=\"-7.8\" font-family=\"Helvetica,sans-Serif\" font-size=\"14.00\">class = LEAVE</text>\n",
       "</g>\n",
       "<!-- 18&#45;&gt;20 -->\n",
       "<g id=\"edge20\" class=\"edge\">\n",
       "<title>18&#45;&gt;20</title>\n",
       "<path fill=\"none\" stroke=\"black\" d=\"M1296.48,-103.73C1304.98,-94.61 1313.99,-84.93 1322.49,-75.81\"/>\n",
       "<polygon fill=\"black\" stroke=\"black\" points=\"1325.23,-78 1329.48,-68.3 1320.1,-73.23 1325.23,-78\"/>\n",
       "</g>\n",
       "<!-- 22 -->\n",
       "<g id=\"node23\" class=\"node\">\n",
       "<title>22</title>\n",
       "<polygon fill=\"#edaa7a\" stroke=\"black\" points=\"1543,-68 1432,-68 1432,0 1543,0 1543,-68\"/>\n",
       "<text text-anchor=\"middle\" x=\"1487.5\" y=\"-52.8\" font-family=\"Helvetica,sans-Serif\" font-size=\"14.00\">entropy = 0.804</text>\n",
       "<text text-anchor=\"middle\" x=\"1487.5\" y=\"-37.8\" font-family=\"Helvetica,sans-Serif\" font-size=\"14.00\">samples = 118</text>\n",
       "<text text-anchor=\"middle\" x=\"1487.5\" y=\"-22.8\" font-family=\"Helvetica,sans-Serif\" font-size=\"14.00\">value = [89, 29]</text>\n",
       "<text text-anchor=\"middle\" x=\"1487.5\" y=\"-7.8\" font-family=\"Helvetica,sans-Serif\" font-size=\"14.00\">class = LEAVE</text>\n",
       "</g>\n",
       "<!-- 21&#45;&gt;22 -->\n",
       "<g id=\"edge22\" class=\"edge\">\n",
       "<title>21&#45;&gt;22</title>\n",
       "<path fill=\"none\" stroke=\"black\" d=\"M1495.03,-103.73C1494.12,-95.43 1493.16,-86.67 1492.24,-78.28\"/>\n",
       "<polygon fill=\"black\" stroke=\"black\" points=\"1495.72,-77.86 1491.15,-68.3 1488.76,-78.62 1495.72,-77.86\"/>\n",
       "</g>\n",
       "<!-- 23 -->\n",
       "<g id=\"node24\" class=\"node\">\n",
       "<title>23</title>\n",
       "<polygon fill=\"#bddef6\" stroke=\"black\" points=\"1672,-68 1561,-68 1561,0 1672,0 1672,-68\"/>\n",
       "<text text-anchor=\"middle\" x=\"1616.5\" y=\"-52.8\" font-family=\"Helvetica,sans-Serif\" font-size=\"14.00\">entropy = 0.971</text>\n",
       "<text text-anchor=\"middle\" x=\"1616.5\" y=\"-37.8\" font-family=\"Helvetica,sans-Serif\" font-size=\"14.00\">samples = 15</text>\n",
       "<text text-anchor=\"middle\" x=\"1616.5\" y=\"-22.8\" font-family=\"Helvetica,sans-Serif\" font-size=\"14.00\">value = [6, 9]</text>\n",
       "<text text-anchor=\"middle\" x=\"1616.5\" y=\"-7.8\" font-family=\"Helvetica,sans-Serif\" font-size=\"14.00\">class = STAY</text>\n",
       "</g>\n",
       "<!-- 21&#45;&gt;23 -->\n",
       "<g id=\"edge23\" class=\"edge\">\n",
       "<title>21&#45;&gt;23</title>\n",
       "<path fill=\"none\" stroke=\"black\" d=\"M1543.07,-103.73C1553.01,-94.42 1563.56,-84.54 1573.48,-75.26\"/>\n",
       "<polygon fill=\"black\" stroke=\"black\" points=\"1576.01,-77.69 1580.92,-68.3 1571.23,-72.58 1576.01,-77.69\"/>\n",
       "</g>\n",
       "<!-- 25 -->\n",
       "<g id=\"node26\" class=\"node\">\n",
       "<title>25</title>\n",
       "<polygon fill=\"#fdf7f2\" stroke=\"black\" points=\"1886,-187 1755,-187 1755,-104 1886,-104 1886,-187\"/>\n",
       "<text text-anchor=\"middle\" x=\"1820.5\" y=\"-171.8\" font-family=\"Helvetica,sans-Serif\" font-size=\"14.00\">LEFTOVER &lt;= 0.1</text>\n",
       "<text text-anchor=\"middle\" x=\"1820.5\" y=\"-156.8\" font-family=\"Helvetica,sans-Serif\" font-size=\"14.00\">entropy = 0.999</text>\n",
       "<text text-anchor=\"middle\" x=\"1820.5\" y=\"-141.8\" font-family=\"Helvetica,sans-Serif\" font-size=\"14.00\">samples = 1125</text>\n",
       "<text text-anchor=\"middle\" x=\"1820.5\" y=\"-126.8\" font-family=\"Helvetica,sans-Serif\" font-size=\"14.00\">value = [581, 544]</text>\n",
       "<text text-anchor=\"middle\" x=\"1820.5\" y=\"-111.8\" font-family=\"Helvetica,sans-Serif\" font-size=\"14.00\">class = LEAVE</text>\n",
       "</g>\n",
       "<!-- 24&#45;&gt;25 -->\n",
       "<g id=\"edge25\" class=\"edge\">\n",
       "<title>24&#45;&gt;25</title>\n",
       "<path fill=\"none\" stroke=\"black\" d=\"M1820.5,-222.91C1820.5,-214.65 1820.5,-205.86 1820.5,-197.3\"/>\n",
       "<polygon fill=\"black\" stroke=\"black\" points=\"1824,-197.02 1820.5,-187.02 1817,-197.02 1824,-197.02\"/>\n",
       "</g>\n",
       "<!-- 28 -->\n",
       "<g id=\"node29\" class=\"node\">\n",
       "<title>28</title>\n",
       "<polygon fill=\"#6bb6ec\" stroke=\"black\" points=\"2097,-187 1972,-187 1972,-104 2097,-104 2097,-187\"/>\n",
       "<text text-anchor=\"middle\" x=\"2034.5\" y=\"-171.8\" font-family=\"Helvetica,sans-Serif\" font-size=\"14.00\">HOUSE &lt;= 0.868</text>\n",
       "<text text-anchor=\"middle\" x=\"2034.5\" y=\"-156.8\" font-family=\"Helvetica,sans-Serif\" font-size=\"14.00\">entropy = 0.726</text>\n",
       "<text text-anchor=\"middle\" x=\"2034.5\" y=\"-141.8\" font-family=\"Helvetica,sans-Serif\" font-size=\"14.00\">samples = 524</text>\n",
       "<text text-anchor=\"middle\" x=\"2034.5\" y=\"-126.8\" font-family=\"Helvetica,sans-Serif\" font-size=\"14.00\">value = [106, 418]</text>\n",
       "<text text-anchor=\"middle\" x=\"2034.5\" y=\"-111.8\" font-family=\"Helvetica,sans-Serif\" font-size=\"14.00\">class = STAY</text>\n",
       "</g>\n",
       "<!-- 24&#45;&gt;28 -->\n",
       "<g id=\"edge28\" class=\"edge\">\n",
       "<title>24&#45;&gt;28</title>\n",
       "<path fill=\"none\" stroke=\"black\" d=\"M1892.06,-224.38C1914.9,-211.89 1940.18,-198.07 1963.03,-185.58\"/>\n",
       "<polygon fill=\"black\" stroke=\"black\" points=\"1964.89,-188.55 1971.98,-180.68 1961.53,-182.41 1964.89,-188.55\"/>\n",
       "</g>\n",
       "<!-- 26 -->\n",
       "<g id=\"node27\" class=\"node\">\n",
       "<title>26</title>\n",
       "<polygon fill=\"#f8decb\" stroke=\"black\" points=\"1815,-68 1690,-68 1690,0 1815,0 1815,-68\"/>\n",
       "<text text-anchor=\"middle\" x=\"1752.5\" y=\"-52.8\" font-family=\"Helvetica,sans-Serif\" font-size=\"14.00\">entropy = 0.984</text>\n",
       "<text text-anchor=\"middle\" x=\"1752.5\" y=\"-37.8\" font-family=\"Helvetica,sans-Serif\" font-size=\"14.00\">samples = 753</text>\n",
       "<text text-anchor=\"middle\" x=\"1752.5\" y=\"-22.8\" font-family=\"Helvetica,sans-Serif\" font-size=\"14.00\">value = [433, 320]</text>\n",
       "<text text-anchor=\"middle\" x=\"1752.5\" y=\"-7.8\" font-family=\"Helvetica,sans-Serif\" font-size=\"14.00\">class = LEAVE</text>\n",
       "</g>\n",
       "<!-- 25&#45;&gt;26 -->\n",
       "<g id=\"edge26\" class=\"edge\">\n",
       "<title>25&#45;&gt;26</title>\n",
       "<path fill=\"none\" stroke=\"black\" d=\"M1795.18,-103.73C1789.74,-94.97 1783.99,-85.7 1778.52,-76.91\"/>\n",
       "<polygon fill=\"black\" stroke=\"black\" points=\"1781.43,-74.95 1773.18,-68.3 1775.48,-78.64 1781.43,-74.95\"/>\n",
       "</g>\n",
       "<!-- 27 -->\n",
       "<g id=\"node28\" class=\"node\">\n",
       "<title>27</title>\n",
       "<polygon fill=\"#bcdef6\" stroke=\"black\" points=\"1958,-68 1833,-68 1833,0 1958,0 1958,-68\"/>\n",
       "<text text-anchor=\"middle\" x=\"1895.5\" y=\"-52.8\" font-family=\"Helvetica,sans-Serif\" font-size=\"14.00\">entropy = 0.97</text>\n",
       "<text text-anchor=\"middle\" x=\"1895.5\" y=\"-37.8\" font-family=\"Helvetica,sans-Serif\" font-size=\"14.00\">samples = 372</text>\n",
       "<text text-anchor=\"middle\" x=\"1895.5\" y=\"-22.8\" font-family=\"Helvetica,sans-Serif\" font-size=\"14.00\">value = [148, 224]</text>\n",
       "<text text-anchor=\"middle\" x=\"1895.5\" y=\"-7.8\" font-family=\"Helvetica,sans-Serif\" font-size=\"14.00\">class = STAY</text>\n",
       "</g>\n",
       "<!-- 25&#45;&gt;27 -->\n",
       "<g id=\"edge27\" class=\"edge\">\n",
       "<title>25&#45;&gt;27</title>\n",
       "<path fill=\"none\" stroke=\"black\" d=\"M1848.43,-103.73C1854.49,-94.88 1860.9,-85.51 1866.99,-76.63\"/>\n",
       "<polygon fill=\"black\" stroke=\"black\" points=\"1869.93,-78.53 1872.69,-68.3 1864.15,-74.57 1869.93,-78.53\"/>\n",
       "</g>\n",
       "<!-- 29 -->\n",
       "<g id=\"node30\" class=\"node\">\n",
       "<title>29</title>\n",
       "<polygon fill=\"#81c0ee\" stroke=\"black\" points=\"2092.5,-68 1976.5,-68 1976.5,0 2092.5,0 2092.5,-68\"/>\n",
       "<text text-anchor=\"middle\" x=\"2034.5\" y=\"-52.8\" font-family=\"Helvetica,sans-Serif\" font-size=\"14.00\">entropy = 0.835</text>\n",
       "<text text-anchor=\"middle\" x=\"2034.5\" y=\"-37.8\" font-family=\"Helvetica,sans-Serif\" font-size=\"14.00\">samples = 158</text>\n",
       "<text text-anchor=\"middle\" x=\"2034.5\" y=\"-22.8\" font-family=\"Helvetica,sans-Serif\" font-size=\"14.00\">value = [42, 116]</text>\n",
       "<text text-anchor=\"middle\" x=\"2034.5\" y=\"-7.8\" font-family=\"Helvetica,sans-Serif\" font-size=\"14.00\">class = STAY</text>\n",
       "</g>\n",
       "<!-- 28&#45;&gt;29 -->\n",
       "<g id=\"edge29\" class=\"edge\">\n",
       "<title>28&#45;&gt;29</title>\n",
       "<path fill=\"none\" stroke=\"black\" d=\"M2034.5,-103.73C2034.5,-95.52 2034.5,-86.86 2034.5,-78.56\"/>\n",
       "<polygon fill=\"black\" stroke=\"black\" points=\"2038,-78.3 2034.5,-68.3 2031,-78.3 2038,-78.3\"/>\n",
       "</g>\n",
       "<!-- 30 -->\n",
       "<g id=\"node31\" class=\"node\">\n",
       "<title>30</title>\n",
       "<polygon fill=\"#63b2eb\" stroke=\"black\" points=\"2228,-68 2111,-68 2111,0 2228,0 2228,-68\"/>\n",
       "<text text-anchor=\"middle\" x=\"2169.5\" y=\"-52.8\" font-family=\"Helvetica,sans-Serif\" font-size=\"14.00\">entropy = 0.669</text>\n",
       "<text text-anchor=\"middle\" x=\"2169.5\" y=\"-37.8\" font-family=\"Helvetica,sans-Serif\" font-size=\"14.00\">samples = 366</text>\n",
       "<text text-anchor=\"middle\" x=\"2169.5\" y=\"-22.8\" font-family=\"Helvetica,sans-Serif\" font-size=\"14.00\">value = [64, 302]</text>\n",
       "<text text-anchor=\"middle\" x=\"2169.5\" y=\"-7.8\" font-family=\"Helvetica,sans-Serif\" font-size=\"14.00\">class = STAY</text>\n",
       "</g>\n",
       "<!-- 28&#45;&gt;30 -->\n",
       "<g id=\"edge30\" class=\"edge\">\n",
       "<title>28&#45;&gt;30</title>\n",
       "<path fill=\"none\" stroke=\"black\" d=\"M2084.77,-103.73C2096.46,-94.24 2108.9,-84.16 2120.54,-74.72\"/>\n",
       "<polygon fill=\"black\" stroke=\"black\" points=\"2122.88,-77.32 2128.45,-68.3 2118.47,-71.88 2122.88,-77.32\"/>\n",
       "</g>\n",
       "</g>\n",
       "</svg>\n"
      ],
      "text/plain": [
       "<graphviz.sources.Source at 0x21ec7bc1d90>"
      ]
     },
     "execution_count": 21,
     "metadata": {},
     "output_type": "execute_result"
    }
   ],
   "source": [
    "import graphviz\n",
    "# DOT data\n",
    "dot_data = tree.export_graphviz(classifier, out_file=None, \n",
    "                                feature_names=[\"COLLEGE\",\"INCOME\",\"OVERAGE\",\"LEFTOVER\",\"HOUSE\",\n",
    "                                \"HANDSET_PRICE\",\"OVER_15MINS_CALLS_PER_MONTH\",\"AVERAGE_CALL_DURATION\",\n",
    "                                \"REPORTED_SATISFACTION\",\"REPORTED_USAGE_LEVEL\",\"CONSIDERING_CHANGE_OF_PLAN\"],  \n",
    "                                class_names=[\"LEAVE\",\"STAY\"],\n",
    "                                filled=True)\n",
    "\n",
    "# Draw graph\n",
    "graph = graphviz.Source(dot_data, format=\"png\") \n",
    "graph.render(\"decision_tree_graphivz\")\n",
    "graph"
   ]
  },
  {
   "cell_type": "code",
   "execution_count": 22,
   "id": "95ec643f-0c34-4f30-b715-c9275ff716ad",
   "metadata": {
    "tags": []
   },
   "outputs": [],
   "source": [
    "def convert_features_to_one_hot(df, feature_name_list):\n",
    "  for feature_name in feature_name_list:\n",
    "    df = pd.get_dummies(df, columns=[feature_name])\n",
    "\n",
    "  return df"
   ]
  },
  {
   "cell_type": "code",
   "execution_count": 23,
   "id": "917d0506-96d8-4e6a-890f-b7b87a795ed4",
   "metadata": {},
   "outputs": [],
   "source": [
    "catList = ['COLLEGE','REPORTED_SATISFACTION', 'REPORTED_USAGE_LEVEL','CONSIDERING_CHANGE_OF_PLAN']\n",
    "X_Train = convert_features_to_one_hot(X_Train,catList)\n",
    "X_Test = convert_features_to_one_hot(X_Test,catList)"
   ]
  },
  {
   "cell_type": "code",
   "execution_count": 24,
   "id": "c2f5e713-ead5-4a80-afdb-327ce12615b6",
   "metadata": {
    "tags": []
   },
   "outputs": [],
   "source": [
    "from sklearn.linear_model import LogisticRegression\n",
    "\n",
    "LR_model = LogisticRegression(penalty='l2',max_iter=10000)\n",
    "LR_model = LR_model.fit(X_Train,Y_Train)"
   ]
  },
  {
   "cell_type": "code",
   "execution_count": 25,
   "id": "7fdb77ec-4e90-4082-a9a4-4e461a4d26b1",
   "metadata": {
    "tags": []
   },
   "outputs": [
    {
     "name": "stdout",
     "output_type": "stream",
     "text": [
      "Logistic Regression model achieved an accuracy of 64.44%\n"
     ]
    }
   ],
   "source": [
    "LR_pred = LR_model.predict(X_Test)\n",
    "accuracy = accuracy_score(Y_Test, LR_pred)\n",
    "print('Logistic Regression model achieved an accuracy of {}%'.format(round(accuracy*100,2)))"
   ]
  },
  {
   "cell_type": "code",
   "execution_count": 26,
   "id": "278b430d-6827-45e7-83fc-26c392e90402",
   "metadata": {
    "tags": []
   },
   "outputs": [
    {
     "name": "stdout",
     "output_type": "stream",
     "text": [
      "Logistic Regression model achieved an accuracy of 0.627\n"
     ]
    }
   ],
   "source": [
    "LR_pred_train = LR_model.predict(X_Train)\n",
    "print('Logistic Regression model achieved an accuracy of {0:0.3f}'.format(metrics.accuracy_score(Y_Train, LR_pred_train)))"
   ]
  },
  {
   "cell_type": "code",
   "execution_count": 27,
   "id": "319dd906-c962-4116-9bd7-14040f7118d8",
   "metadata": {},
   "outputs": [
    {
     "data": {
      "text/plain": [
       "device(type='cpu')"
      ]
     },
     "execution_count": 27,
     "metadata": {},
     "output_type": "execute_result"
    }
   ],
   "source": [
    "import torch\n",
    "from torch import nn, optim\n",
    "device = torch.device(\"cuda\" if torch.cuda.is_available() else \"cpu\")\n",
    "device"
   ]
  },
  {
   "cell_type": "code",
   "execution_count": 28,
   "id": "026cf8f3-275c-46af-8cfb-3d67d858960a",
   "metadata": {},
   "outputs": [],
   "source": [
    "# Convert training data to PyTorch tensors and move to device\n",
    "X_nn_train = torch.tensor(X_Train.values.astype('float32')).to(device)\n",
    "Y_nn_train = torch.tensor(Y_Train.values, dtype=torch.long).to(device)\n",
    "\n",
    "# Convert validation data to PyTorch tensors and move to device\n",
    "X_val = torch.tensor(X_Test.values.astype('float32')).to(device)\n",
    "Y_val = torch.tensor(Y_Test.values, dtype=torch.long).to(device)\n",
    "\n",
    "# Convert test data to PyTorch tensors and move to device\n",
    "X_nn_test = torch.tensor(X_Test.values.astype('float32')).to(device)"
   ]
  },
  {
   "cell_type": "code",
   "execution_count": 29,
   "id": "b0b2189c-b4d0-4429-8c57-69d8faae08da",
   "metadata": {},
   "outputs": [],
   "source": [
    "D = X_Train.shape[1]  # feature dimensions\n",
    "C = 2  # num_classes\n",
    "H = 5  # num_hidden_units\n",
    "\n",
    "# Set learning rate and regularization strength\n",
    "learning_rate = 1e-3\n",
    "lambda_l2 = 1e-3\n",
    "\n",
    "# Set number of training epochs\n",
    "epochs = 27000"
   ]
  },
  {
   "cell_type": "code",
   "execution_count": 30,
   "id": "63cc6634-ed49-4c81-a37a-2ec97342ef36",
   "metadata": {},
   "outputs": [],
   "source": [
    "model = nn.Sequential(\n",
    "    nn.Linear(D, H),\n",
    "    nn.ReLU(), #if t < n_networks // 3 else nn.Tanh(),\n",
    "    nn.Linear(H, H),\n",
    "    nn.ReLU(),\n",
    "    nn.Linear(H, C)\n",
    ")\n",
    "\n",
    "model.to(device)\n",
    "\n",
    "criterion = torch.nn.CrossEntropyLoss()\n",
    "\n",
    "optimizer = torch.optim.Adam(model.parameters(), lr=learning_rate, weight_decay=lambda_l2)"
   ]
  },
  {
   "cell_type": "code",
   "execution_count": 31,
   "id": "d127d10f-6174-41d3-b8b1-c9aa9e65c719",
   "metadata": {},
   "outputs": [
    {
     "name": "stdout",
     "output_type": "stream",
     "text": [
      "[EPOCH]: 0, [LOSS]: 18166.46875, [ACCURACY]: 0.504800021648407\n",
      "[EPOCH]: 1000, [LOSS]: 1.557908296585083, [ACCURACY]: 0.5947333574295044\n",
      "[EPOCH]: 2000, [LOSS]: 3.2791895866394043, [ACCURACY]: 0.5779333114624023\n",
      "[EPOCH]: 3000, [LOSS]: 4.350524425506592, [ACCURACY]: 0.5784666538238525\n",
      "[EPOCH]: 4000, [LOSS]: 4.5227837562561035, [ACCURACY]: 0.5865333080291748\n",
      "[EPOCH]: 5000, [LOSS]: 1.9363552331924438, [ACCURACY]: 0.627133309841156\n",
      "[EPOCH]: 6000, [LOSS]: 4.081759452819824, [ACCURACY]: 0.583733320236206\n",
      "[EPOCH]: 7000, [LOSS]: 2.7776572704315186, [ACCURACY]: 0.5974000096321106\n",
      "[EPOCH]: 8000, [LOSS]: 1.6423823833465576, [ACCURACY]: 0.6130666732788086\n",
      "[EPOCH]: 9000, [LOSS]: 1.8102631568908691, [ACCURACY]: 0.4952000081539154\n",
      "[EPOCH]: 10000, [LOSS]: 2.4667880535125732, [ACCURACY]: 0.4952000081539154\n",
      "[EPOCH]: 11000, [LOSS]: 0.8826367855072021, [ACCURACY]: 0.6221333146095276\n",
      "[EPOCH]: 12000, [LOSS]: 1.011475682258606, [ACCURACY]: 0.6079333424568176\n",
      "[EPOCH]: 13000, [LOSS]: 1.33968186378479, [ACCURACY]: 0.4952000081539154\n",
      "[EPOCH]: 14000, [LOSS]: 0.918720006942749, [ACCURACY]: 0.609000027179718\n",
      "[EPOCH]: 15000, [LOSS]: 0.8066729307174683, [ACCURACY]: 0.6115333437919617\n",
      "[EPOCH]: 16000, [LOSS]: 0.8472646474838257, [ACCURACY]: 0.49540001153945923\n",
      "[EPOCH]: 17000, [LOSS]: 0.7379956841468811, [ACCURACY]: 0.548466682434082\n",
      "[EPOCH]: 18000, [LOSS]: 0.6488658785820007, [ACCURACY]: 0.6212000250816345\n",
      "[EPOCH]: 19000, [LOSS]: 0.660010576248169, [ACCURACY]: 0.6033333539962769\n",
      "[EPOCH]: 20000, [LOSS]: 0.6521364450454712, [ACCURACY]: 0.6137333512306213\n",
      "[EPOCH]: 21000, [LOSS]: 0.6525483727455139, [ACCURACY]: 0.6102666854858398\n",
      "[EPOCH]: 22000, [LOSS]: 0.6575861573219299, [ACCURACY]: 0.5956666469573975\n",
      "[EPOCH]: 23000, [LOSS]: 0.6622953414916992, [ACCURACY]: 0.5866000056266785\n",
      "[EPOCH]: 24000, [LOSS]: 0.6779171228408813, [ACCURACY]: 0.5469333529472351\n",
      "[EPOCH]: 25000, [LOSS]: 0.6798511147499084, [ACCURACY]: 0.5501333475112915\n",
      "[EPOCH]: 26000, [LOSS]: 0.6718018054962158, [ACCURACY]: 0.5920666456222534\n"
     ]
    }
   ],
   "source": [
    "for t in range(epochs):\n",
    "    # Feed forward to get the logits\n",
    "    y_nn_pred = model(X_nn_train)\n",
    "\n",
    "    # Compute the loss and accuracy\n",
    "    loss = criterion(y_nn_pred, Y_nn_train)\n",
    "    score, predicted = torch.max(y_nn_pred, 1)\n",
    "    acc = (Y_nn_train == predicted).sum().float() / len(Y_nn_train)\n",
    "\n",
    "    # Print loss and accuracy every 1000 epochs\n",
    "    if t % 1000 == 0:\n",
    "        print(f\"[EPOCH]: {t}, [LOSS]: {loss.item()}, [ACCURACY]: {acc}\")\n",
    "\n",
    "    # zero the gradients before running\n",
    "    # the backward pass.\n",
    "    optimizer.zero_grad()\n",
    "\n",
    "    # Backward pass to compute the gradient\n",
    "    # of loss w.r.t our learnable params.\n",
    "    loss.backward()\n",
    "\n",
    "    # Update params\n",
    "    optimizer.step()"
   ]
  },
  {
   "cell_type": "code",
   "execution_count": 32,
   "id": "337049f9-63c7-4e12-9628-052969c50816",
   "metadata": {},
   "outputs": [
    {
     "name": "stdout",
     "output_type": "stream",
     "text": [
      "Neural network model validation accuracy: 0.6033999919891357\n"
     ]
    }
   ],
   "source": [
    "with torch.no_grad():\n",
    "  y_val_pred = model(X_val)\n",
    "  _, predicted_val = torch.max(y_val_pred, 1)\n",
    "  val_acc = (Y_val == predicted_val).sum().float() / len(Y_val)\n",
    "\n",
    "  # Print validation accuracy\n",
    "  print(f\"Neural network model validation accuracy: {val_acc}\")"
   ]
  },
  {
   "cell_type": "code",
   "execution_count": 33,
   "id": "ceb4df31-2dee-4262-a534-aa2a6fec1845",
   "metadata": {},
   "outputs": [],
   "source": [
    "with torch.no_grad():\n",
    "  y_test_pred = model(X_nn_test)\n",
    "  _, predicted_test = torch.max(y_test_pred, 1)\n",
    "    \n"
   ]
  },
  {
   "cell_type": "code",
   "execution_count": 34,
   "id": "5038a6b4-97c4-4d21-9d73-a1f561003ea1",
   "metadata": {
    "tags": []
   },
   "outputs": [
    {
     "name": "stdout",
     "output_type": "stream",
     "text": [
      "[[1608  968]\n",
      " [ 521 1903]]\n"
     ]
    },
    {
     "data": {
      "text/plain": [
       "0.7022"
      ]
     },
     "execution_count": 34,
     "metadata": {},
     "output_type": "execute_result"
    }
   ],
   "source": [
    "from sklearn.metrics import confusion_matrix, accuracy_score\n",
    "cm = confusion_matrix(Y_Test, Y_Pred)\n",
    "print(cm)\n",
    "accuracy_score(Y_Test, Y_Pred)"
   ]
  },
  {
   "cell_type": "code",
   "execution_count": 35,
   "id": "8725cd03-2f12-45ff-937a-36e55046365d",
   "metadata": {
    "tags": []
   },
   "outputs": [
    {
     "data": {
      "image/png": "[encoded data removed]",
      "text/plain": [
       "<Figure size 640x480 with 2 Axes>"
      ]
     },
     "metadata": {},
     "output_type": "display_data"
    }
   ],
   "source": [
    "import seaborn as sns\n",
    "import matplotlib.pyplot as plt     \n",
    "\n",
    "ax= plt.subplot()\n",
    "sns.heatmap(cm, annot=True, fmt='g', ax=ax);  #annot=True to annotate cells, ftm='g' to disable scientific notation\n",
    "\n",
    "# labels, title and ticks\n",
    "ax.set_xlabel('Predicted labels');ax.set_ylabel('True labels'); \n",
    "ax.set_title('Confusion Matrix'); \n",
    "ax.xaxis.set_ticklabels(['STAY', 'LEAVE']); ax.yaxis.set_ticklabels(['STAY', 'LEAVE']);"
   ]
  },
  {
   "cell_type": "code",
   "execution_count": 36,
   "id": "641e4d19-ea09-4844-8a3f-8f1e9a7f61ed",
   "metadata": {
    "tags": []
   },
   "outputs": [
    {
     "name": "stdout",
     "output_type": "stream",
     "text": [
      "[[1914  662]\n",
      " [ 917 1507]]\n"
     ]
    },
    {
     "data": {
      "text/plain": [
       "0.6842"
      ]
     },
     "execution_count": 36,
     "metadata": {},
     "output_type": "execute_result"
    }
   ],
   "source": [
    "kcm = confusion_matrix(Y_Test, Y_knn_pred)\n",
    "print(kcm)\n",
    "accuracy_score(Y_Test, Y_knn_pred)"
   ]
  },
  {
   "cell_type": "code",
   "execution_count": 37,
   "id": "a46b9075-f6de-4d33-84e9-958663863d4e",
   "metadata": {
    "tags": []
   },
   "outputs": [
    {
     "data": {
      "image/png": "[encoded data removed]",
      "text/plain": [
       "<Figure size 640x480 with 2 Axes>"
      ]
     },
     "metadata": {},
     "output_type": "display_data"
    }
   ],
   "source": [
    "kax= plt.subplot()\n",
    "sns.heatmap(kcm, annot=True, fmt='g', ax=kax);  #annot=True to annotate cells, ftm='g' to disable scientific notation\n",
    "\n",
    "# labels, title and ticks\n",
    "kax.set_xlabel('Predicted labels');kax.set_ylabel('True labels'); \n",
    "kax.set_title('Confusion Matrix'); \n",
    "kax.xaxis.set_ticklabels(['STAY', 'LEAVE']); kax.yaxis.set_ticklabels(['STAY', 'LEAVE']);"
   ]
  },
  {
   "cell_type": "code",
   "execution_count": 38,
   "id": "e6cb65f0-af6e-45e6-93b8-e91ff455aa45",
   "metadata": {},
   "outputs": [
    {
     "name": "stdout",
     "output_type": "stream",
     "text": [
      "[[1705  871]\n",
      " [ 907 1517]]\n"
     ]
    },
    {
     "data": {
      "text/plain": [
       "0.6444"
      ]
     },
     "execution_count": 38,
     "metadata": {},
     "output_type": "execute_result"
    }
   ],
   "source": [
    "lcm = confusion_matrix(Y_Test, LR_pred)\n",
    "print(lcm)\n",
    "accuracy_score(Y_Test, LR_pred)"
   ]
  },
  {
   "cell_type": "code",
   "execution_count": 39,
   "id": "f9ed75dc-9422-47f5-a554-5cd3b741765e",
   "metadata": {},
   "outputs": [
    {
     "data": {
      "image/png": "[encoded data removed]",
      "text/plain": [
       "<Figure size 640x480 with 2 Axes>"
      ]
     },
     "metadata": {},
     "output_type": "display_data"
    }
   ],
   "source": [
    "lax= plt.subplot()\n",
    "sns.heatmap(lcm, annot=True, fmt='g', ax=lax);  #annot=True to annotate cells, ftm='g' to disable scientific notation\n",
    "\n",
    "# labels, title and ticks\n",
    "lax.set_xlabel('Predicted labels');lax.set_ylabel('True labels'); \n",
    "lax.set_title('Confusion Matrix'); \n",
    "lax.xaxis.set_ticklabels(['STAY', 'LEAVE']); lax.yaxis.set_ticklabels(['STAY', 'LEAVE']);"
   ]
  },
  {
   "cell_type": "code",
   "execution_count": 40,
   "id": "96ce716f-0e6f-411f-abc8-732adfe01fe9",
   "metadata": {
    "tags": []
   },
   "outputs": [
    {
     "name": "stdout",
     "output_type": "stream",
     "text": [
      "[[1757  819]\n",
      " [ 918 1506]]\n"
     ]
    },
    {
     "data": {
      "text/plain": [
       "0.6526"
      ]
     },
     "execution_count": 40,
     "metadata": {},
     "output_type": "execute_result"
    }
   ],
   "source": [
    "licm = confusion_matrix(Y_Test, np.round(linear_pred))\n",
    "print(licm)\n",
    "accuracy_score(Y_Test, np.round(linear_pred))"
   ]
  },
  {
   "cell_type": "code",
   "execution_count": 41,
   "id": "689d2ce8-502e-4e22-94e9-c22ca05ebfc7",
   "metadata": {
    "tags": []
   },
   "outputs": [
    {
     "data": {
      "image/png": "[encoded data removed]",
      "text/plain": [
       "<Figure size 640x480 with 2 Axes>"
      ]
     },
     "metadata": {},
     "output_type": "display_data"
    }
   ],
   "source": [
    "liax= plt.subplot()\n",
    "sns.heatmap(licm, annot=True, fmt='g', ax=liax);  #annot=True to annotate cells, ftm='g' to disable scientific notation\n",
    "\n",
    "# labels, title and ticks\n",
    "liax.set_xlabel('Predicted labels');liax.set_ylabel('True labels'); \n",
    "liax.set_title('Confusion Matrix'); \n",
    "liax.xaxis.set_ticklabels(['STAY', 'LEAVE']); liax.yaxis.set_ticklabels(['STAY', 'LEAVE']);"
   ]
  },
  {
   "cell_type": "code",
   "execution_count": 42,
   "id": "c768efa8-09c6-41fc-b54c-6cc7a816c1b0",
   "metadata": {
    "tags": []
   },
   "outputs": [
    {
     "name": "stdout",
     "output_type": "stream",
     "text": [
      "[[1165 1411]\n",
      " [ 572 1852]]\n"
     ]
    },
    {
     "data": {
      "text/plain": [
       "0.6034"
      ]
     },
     "execution_count": 42,
     "metadata": {},
     "output_type": "execute_result"
    }
   ],
   "source": [
    "ncm = confusion_matrix(Y_Test, predicted_val)\n",
    "print(ncm)\n",
    "accuracy_score(Y_Test, predicted_val)"
   ]
  },
  {
   "cell_type": "code",
   "execution_count": 43,
   "id": "7d818ad0-5882-496d-83b9-cfc0fcffef05",
   "metadata": {
    "tags": []
   },
   "outputs": [
    {
     "data": {
      "image/png": "[encoded data removed]",
      "text/plain": [
       "<Figure size 640x480 with 2 Axes>"
      ]
     },
     "metadata": {},
     "output_type": "display_data"
    }
   ],
   "source": [
    "nax= plt.subplot()\n",
    "sns.heatmap(ncm, annot=True, fmt='g', ax=nax);  #annot=True to annotate cells, ftm='g' to disable scientific notation\n",
    "\n",
    "# labels, title and ticks\n",
    "nax.set_xlabel('Predicted labels');nax.set_ylabel('True labels'); \n",
    "nax.set_title('Confusion Matrix'); \n",
    "nax.xaxis.set_ticklabels(['STAY', 'LEAVE']); nax.yaxis.set_ticklabels(['STAY', 'LEAVE']);"
   ]
  },
  {
   "cell_type": "code",
   "execution_count": 44,
   "id": "731d2dc9-f88d-43bb-9777-048be29db4d8",
   "metadata": {
    "tags": []
   },
   "outputs": [
    {
     "data": {
      "text/plain": [
       "<matplotlib.legend.Legend at 0x21ecfde9890>"
      ]
     },
     "execution_count": 44,
     "metadata": {},
     "output_type": "execute_result"
    },
    {
     "data": {
      "image/png": "[encoded data removed]",
      "text/plain": [
       "<Figure size 640x480 with 1 Axes>"
      ]
     },
     "metadata": {},
     "output_type": "display_data"
    }
   ],
   "source": [
    "fpr, tpr, _ = metrics.roc_curve(Y_Test, Y_Pred)\n",
    "auc = round(metrics.roc_auc_score(Y_Test, Y_Pred), 4)\n",
    "plt.plot(fpr,tpr,label=\"Decision Tree, AUC=\"+str(auc))\n",
    "\n",
    "fpr, tpr, _ = metrics.roc_curve(Y_Test, Y_knn_pred)\n",
    "auc = round(metrics.roc_auc_score(Y_Test, Y_knn_pred), 4)\n",
    "plt.plot(fpr,tpr,label=\"K-nearest Neighbor, AUC=\"+str(auc))\n",
    "\n",
    "fpr, tpr, _ = metrics.roc_curve(Y_Test, LR_pred)\n",
    "auc = round(metrics.roc_auc_score(Y_Test, LR_pred), 4)\n",
    "plt.plot(fpr,tpr,label=\"Logistic Regression, AUC=\"+str(auc))\n",
    "\n",
    "fpr, tpr, _ = metrics.roc_curve(Y_Test, predicted_val)\n",
    "auc = round(metrics.roc_auc_score(Y_Test, predicted_val), 4)\n",
    "plt.plot(fpr,tpr,label=\"Neural Network, AUC=\"+str(auc))\n",
    "\n",
    "fpr, tpr, _ = metrics.roc_curve(Y_Test, linear_pred)\n",
    "auc = round(metrics.roc_auc_score(Y_Test, linear_pred), 4)\n",
    "plt.plot(fpr,tpr,label=\"Linear Regression, AUC=\"+str(auc))\n",
    "\n",
    "plt.xlabel(\"False Positive Rate\")\n",
    "plt.ylabel(\"True Positive Rate\")\n",
    "plt.legend()"
   ]
  },
  {
   "cell_type": "code",
   "execution_count": 45,
   "id": "f4948bb8-d516-4c54-92fb-4fe87bd0c432",
   "metadata": {},
   "outputs": [
    {
     "data": {
      "text/plain": [
       "array([ 0.00630257,  0.0294908 ,  0.09599103,  0.05229506, -0.1048528 ,\n",
       "        0.02142592,  0.0254322 ,  0.02814702, -0.00722428,  0.00077144,\n",
       "       -0.00672505])"
      ]
     },
     "execution_count": 45,
     "metadata": {},
     "output_type": "execute_result"
    }
   ],
   "source": [
    "lm.coef_"
   ]
  },
  {
   "cell_type": "code",
   "execution_count": 46,
   "id": "f08628e4-5e8d-41ce-9ec0-9fca6cc2c1d6",
   "metadata": {
    "tags": []
   },
   "outputs": [
    {
     "data": {
      "text/html": [
       "<div>\n",
       "<style scoped>\n",
       "    .dataframe tbody tr th:only-of-type {\n",
       "        vertical-align: middle;\n",
       "    }\n",
       "\n",
       "    .dataframe tbody tr th {\n",
       "        vertical-align: top;\n",
       "    }\n",
       "\n",
       "    .dataframe thead th {\n",
       "        text-align: right;\n",
       "    }\n",
       "</style>\n",
       "<table border=\"1\" class=\"dataframe\">\n",
       "  <thead>\n",
       "    <tr style=\"text-align: right;\">\n",
       "      <th></th>\n",
       "      <th>COLLEGE</th>\n",
       "      <th>INCOME</th>\n",
       "      <th>OVERAGE</th>\n",
       "      <th>LEFTOVER</th>\n",
       "      <th>HOUSE</th>\n",
       "      <th>HANDSET_PRICE</th>\n",
       "      <th>OVER_15MINS_CALLS_PER_MONTH</th>\n",
       "      <th>AVERAGE_CALL_DURATION</th>\n",
       "      <th>REPORTED_SATISFACTION</th>\n",
       "      <th>REPORTED_USAGE_LEVEL</th>\n",
       "      <th>CONSIDERING_CHANGE_OF_PLAN</th>\n",
       "      <th>LEAVE</th>\n",
       "    </tr>\n",
       "  </thead>\n",
       "  <tbody>\n",
       "    <tr>\n",
       "      <th>count</th>\n",
       "      <td>20000.000000</td>\n",
       "      <td>20000.000000</td>\n",
       "      <td>20000.000000</td>\n",
       "      <td>20000.000000</td>\n",
       "      <td>20000.000000</td>\n",
       "      <td>20000.000000</td>\n",
       "      <td>20000.000000</td>\n",
       "      <td>20000.000000</td>\n",
       "      <td>20000.000000</td>\n",
       "      <td>20000.000000</td>\n",
       "      <td>20000.000000</td>\n",
       "      <td>20000.000000</td>\n",
       "    </tr>\n",
       "    <tr>\n",
       "      <th>mean</th>\n",
       "      <td>0.502400</td>\n",
       "      <td>80281.447750</td>\n",
       "      <td>85.979550</td>\n",
       "      <td>23.898650</td>\n",
       "      <td>493155.264250</td>\n",
       "      <td>389.615100</td>\n",
       "      <td>8.000700</td>\n",
       "      <td>6.002250</td>\n",
       "      <td>1.566100</td>\n",
       "      <td>1.815050</td>\n",
       "      <td>2.494000</td>\n",
       "      <td>0.492600</td>\n",
       "    </tr>\n",
       "    <tr>\n",
       "      <th>std</th>\n",
       "      <td>0.500007</td>\n",
       "      <td>41680.586319</td>\n",
       "      <td>85.992324</td>\n",
       "      <td>26.816645</td>\n",
       "      <td>252407.884692</td>\n",
       "      <td>213.820682</td>\n",
       "      <td>8.925418</td>\n",
       "      <td>4.402558</td>\n",
       "      <td>1.629437</td>\n",
       "      <td>1.511839</td>\n",
       "      <td>1.323538</td>\n",
       "      <td>0.499958</td>\n",
       "    </tr>\n",
       "    <tr>\n",
       "      <th>min</th>\n",
       "      <td>0.000000</td>\n",
       "      <td>20007.000000</td>\n",
       "      <td>-2.000000</td>\n",
       "      <td>0.000000</td>\n",
       "      <td>150002.000000</td>\n",
       "      <td>130.000000</td>\n",
       "      <td>0.000000</td>\n",
       "      <td>1.000000</td>\n",
       "      <td>0.000000</td>\n",
       "      <td>0.000000</td>\n",
       "      <td>0.000000</td>\n",
       "      <td>0.000000</td>\n",
       "    </tr>\n",
       "    <tr>\n",
       "      <th>25%</th>\n",
       "      <td>0.000000</td>\n",
       "      <td>42217.000000</td>\n",
       "      <td>0.000000</td>\n",
       "      <td>0.000000</td>\n",
       "      <td>263714.250000</td>\n",
       "      <td>219.000000</td>\n",
       "      <td>1.000000</td>\n",
       "      <td>2.000000</td>\n",
       "      <td>0.000000</td>\n",
       "      <td>1.000000</td>\n",
       "      <td>1.000000</td>\n",
       "      <td>0.000000</td>\n",
       "    </tr>\n",
       "    <tr>\n",
       "      <th>50%</th>\n",
       "      <td>1.000000</td>\n",
       "      <td>75366.500000</td>\n",
       "      <td>59.000000</td>\n",
       "      <td>14.000000</td>\n",
       "      <td>452259.500000</td>\n",
       "      <td>326.000000</td>\n",
       "      <td>4.000000</td>\n",
       "      <td>5.000000</td>\n",
       "      <td>1.000000</td>\n",
       "      <td>1.000000</td>\n",
       "      <td>3.000000</td>\n",
       "      <td>0.000000</td>\n",
       "    </tr>\n",
       "    <tr>\n",
       "      <th>75%</th>\n",
       "      <td>1.000000</td>\n",
       "      <td>115881.750000</td>\n",
       "      <td>179.000000</td>\n",
       "      <td>41.000000</td>\n",
       "      <td>702378.000000</td>\n",
       "      <td>533.250000</td>\n",
       "      <td>15.000000</td>\n",
       "      <td>10.000000</td>\n",
       "      <td>4.000000</td>\n",
       "      <td>4.000000</td>\n",
       "      <td>3.000000</td>\n",
       "      <td>1.000000</td>\n",
       "    </tr>\n",
       "    <tr>\n",
       "      <th>max</th>\n",
       "      <td>1.000000</td>\n",
       "      <td>159983.000000</td>\n",
       "      <td>335.000000</td>\n",
       "      <td>89.000000</td>\n",
       "      <td>999996.000000</td>\n",
       "      <td>899.000000</td>\n",
       "      <td>29.000000</td>\n",
       "      <td>15.000000</td>\n",
       "      <td>4.000000</td>\n",
       "      <td>4.000000</td>\n",
       "      <td>4.000000</td>\n",
       "      <td>1.000000</td>\n",
       "    </tr>\n",
       "  </tbody>\n",
       "</table>\n",
       "</div>"
      ],
      "text/plain": [
       "            COLLEGE         INCOME       OVERAGE      LEFTOVER          HOUSE  \\\n",
       "count  20000.000000   20000.000000  20000.000000  20000.000000   20000.000000   \n",
       "mean       0.502400   80281.447750     85.979550     23.898650  493155.264250   \n",
       "std        0.500007   41680.586319     85.992324     26.816645  252407.884692   \n",
       "min        0.000000   20007.000000     -2.000000      0.000000  150002.000000   \n",
       "25%        0.000000   42217.000000      0.000000      0.000000  263714.250000   \n",
       "50%        1.000000   75366.500000     59.000000     14.000000  452259.500000   \n",
       "75%        1.000000  115881.750000    179.000000     41.000000  702378.000000   \n",
       "max        1.000000  159983.000000    335.000000     89.000000  999996.000000   \n",
       "\n",
       "       HANDSET_PRICE  OVER_15MINS_CALLS_PER_MONTH  AVERAGE_CALL_DURATION  \\\n",
       "count   20000.000000                 20000.000000           20000.000000   \n",
       "mean      389.615100                     8.000700               6.002250   \n",
       "std       213.820682                     8.925418               4.402558   \n",
       "min       130.000000                     0.000000               1.000000   \n",
       "25%       219.000000                     1.000000               2.000000   \n",
       "50%       326.000000                     4.000000               5.000000   \n",
       "75%       533.250000                    15.000000              10.000000   \n",
       "max       899.000000                    29.000000              15.000000   \n",
       "\n",
       "       REPORTED_SATISFACTION  REPORTED_USAGE_LEVEL  \\\n",
       "count           20000.000000          20000.000000   \n",
       "mean                1.566100              1.815050   \n",
       "std                 1.629437              1.511839   \n",
       "min                 0.000000              0.000000   \n",
       "25%                 0.000000              1.000000   \n",
       "50%                 1.000000              1.000000   \n",
       "75%                 4.000000              4.000000   \n",
       "max                 4.000000              4.000000   \n",
       "\n",
       "       CONSIDERING_CHANGE_OF_PLAN         LEAVE  \n",
       "count                20000.000000  20000.000000  \n",
       "mean                     2.494000      0.492600  \n",
       "std                      1.323538      0.499958  \n",
       "min                      0.000000      0.000000  \n",
       "25%                      1.000000      0.000000  \n",
       "50%                      3.000000      0.000000  \n",
       "75%                      3.000000      1.000000  \n",
       "max                      4.000000      1.000000  "
      ]
     },
     "execution_count": 46,
     "metadata": {},
     "output_type": "execute_result"
    }
   ],
   "source": [
    "df.describe()"
   ]
  },
  {
   "cell_type": "code",
   "execution_count": null,
   "id": "db57d701-1ce0-49e6-a184-0f35799e91fa",
   "metadata": {},
   "outputs": [],
   "source": []
  }
 ],
 "metadata": {
  "kernelspec": {
   "display_name": "Python 3 (ipykernel)",
   "language": "python",
   "name": "python3"
  },
  "language_info": {
   "codemirror_mode": {
    "name": "ipython",
    "version": 3
   },
   "file_extension": ".py",
   "mimetype": "text/x-python",
   "name": "python",
   "nbconvert_exporter": "python",
   "pygments_lexer": "ipython3",
   "version": "3.11.5"
  }
 },
 "nbformat": 4,
 "nbformat_minor": 5
}
